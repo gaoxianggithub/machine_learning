{
 "cells": [
  {
   "attachments": {},
   "cell_type": "markdown",
   "metadata": {},
   "source": [
    "# 8 MNIST数据集手写数字识别\n",
    "## 8.1 数据集介绍\n",
    "MNIST 包括6万张28x28的训练样本，1万张测试样本，很多教程都会对它”下手”几乎成为一个 “典范”，可以说它就是计算机视觉里面的Hello World。所以我们这里也会使用MNIST来进行实战。\n",
    "\n",
    "前面在介绍卷积神经网络的时候说到过LeNet-5，LeNet-5之所以强大就是因为在当时的环境下将MNIST数据的识别率提高到了99%，这里我们也自己从头搭建一个卷积神经网络，也达到99%的准确率\n",
    "\n",
    "## 8.2 手写数字识别\n",
    "首先，我们定义一些超参数"
   ]
  },
  {
   "cell_type": "code",
   "execution_count": 2,
   "metadata": {},
   "outputs": [
    {
     "data": {
      "text/plain": [
       "device(type='cuda')"
      ]
     },
     "execution_count": 2,
     "metadata": {},
     "output_type": "execute_result"
    }
   ],
   "source": [
    "import torch\n",
    "import torch.nn as nn\n",
    "import torch.nn.functional as F\n",
    "import torch.optim as optim\n",
    "from torchvision import datasets, transforms\n",
    "\n",
    "BATCH_SIZE=512 #大概需要2G的显存\n",
    "EPOCHS=20 # 总共训练批次\n",
    "# 让torch判断是否使用GPU，建议使用GPU环境，因为会快很多\n",
    "DEVICE = torch.device(\"cuda\" if torch.cuda.is_available() else \"cpu\") "
   ]
  },
  {
   "attachments": {},
   "cell_type": "markdown",
   "metadata": {},
   "source": [
    "\n",
    "因为Pytorch里面包含了MNIST的数据集，所以我们这里直接使用即可。 如果第一次执行会生成data文件夹，并且需要一些时间下载，如果以前下载过就不会再次下载了\n",
    "\n",
    "由于官方已经实现了dataset，所以这里可以直接使用DataLoader来对数据进行读取"
   ]
  },
  {
   "cell_type": "code",
   "execution_count": 4,
   "metadata": {},
   "outputs": [
    {
     "name": "stdout",
     "output_type": "stream",
     "text": [
      "Downloading http://yann.lecun.com/exdb/mnist/train-images-idx3-ubyte.gz\n",
      "Downloading http://yann.lecun.com/exdb/mnist/train-images-idx3-ubyte.gz to data/MNIST/raw/train-images-idx3-ubyte.gz\n"
     ]
    },
    {
     "name": "stderr",
     "output_type": "stream",
     "text": [
      "100.0%\n"
     ]
    },
    {
     "name": "stdout",
     "output_type": "stream",
     "text": [
      "Extracting data/MNIST/raw/train-images-idx3-ubyte.gz to data/MNIST/raw\n",
      "\n",
      "Downloading http://yann.lecun.com/exdb/mnist/train-labels-idx1-ubyte.gz\n",
      "Downloading http://yann.lecun.com/exdb/mnist/train-labels-idx1-ubyte.gz to data/MNIST/raw/train-labels-idx1-ubyte.gz\n"
     ]
    },
    {
     "name": "stderr",
     "output_type": "stream",
     "text": [
      "100.0%\n"
     ]
    },
    {
     "name": "stdout",
     "output_type": "stream",
     "text": [
      "Extracting data/MNIST/raw/train-labels-idx1-ubyte.gz to data/MNIST/raw\n",
      "\n",
      "Downloading http://yann.lecun.com/exdb/mnist/t10k-images-idx3-ubyte.gz\n",
      "Downloading http://yann.lecun.com/exdb/mnist/t10k-images-idx3-ubyte.gz to data/MNIST/raw/t10k-images-idx3-ubyte.gz\n"
     ]
    },
    {
     "name": "stderr",
     "output_type": "stream",
     "text": [
      "100.0%\n"
     ]
    },
    {
     "name": "stdout",
     "output_type": "stream",
     "text": [
      "Extracting data/MNIST/raw/t10k-images-idx3-ubyte.gz to data/MNIST/raw\n",
      "\n",
      "Downloading http://yann.lecun.com/exdb/mnist/t10k-labels-idx1-ubyte.gz\n",
      "Downloading http://yann.lecun.com/exdb/mnist/t10k-labels-idx1-ubyte.gz to data/MNIST/raw/t10k-labels-idx1-ubyte.gz\n"
     ]
    },
    {
     "name": "stderr",
     "output_type": "stream",
     "text": [
      "100.0%"
     ]
    },
    {
     "name": "stdout",
     "output_type": "stream",
     "text": [
      "Extracting data/MNIST/raw/t10k-labels-idx1-ubyte.gz to data/MNIST/raw\n",
      "\n"
     ]
    },
    {
     "name": "stderr",
     "output_type": "stream",
     "text": [
      "\n"
     ]
    }
   ],
   "source": [
    "train_loader = torch.utils.data.DataLoader(\n",
    "    datasets.MNIST('data', train=True, download=True,\n",
    "                   transform=transforms.Compose([\n",
    "                        transforms.ToTensor(), # 转为Tensor\n",
    "                        transforms.Normalize((0.1307,), (0.3081,)) # 归一化\n",
    "                   ])),\n",
    "    batch_size = BATCH_SIZE, shuffle=True\n",
    ")"
   ]
  },
  {
   "attachments": {},
   "cell_type": "markdown",
   "metadata": {},
   "source": [
    "测试集"
   ]
  },
  {
   "cell_type": "code",
   "execution_count": 5,
   "metadata": {},
   "outputs": [],
   "source": [
    "\n",
    "test_loader = torch.utils.data.DataLoader(\n",
    "    datasets.MNIST('data', train=False,\n",
    "                   transform=transforms.Compose([\n",
    "                        transforms.ToTensor(), # 转为Tensor\n",
    "                        transforms.Normalize((0.1307,), (0.3081,)) # 归一化\n",
    "                   ])),\n",
    "    batch_size = BATCH_SIZE, shuffle=True\n",
    ")"
   ]
  },
  {
   "attachments": {},
   "cell_type": "markdown",
   "metadata": {},
   "source": [
    "下面我们定义一个网络，网络包含两个卷积层，conv1和conv2，然后紧接着两个线性层作为输出，最后输出10个维度，这10个维度我们作为0-9的标识来确定识别出的是那个数字\n",
    "\n",
    "在这里建议大家将每一层的输入和输出维度都作为注释标注出来，这样后面阅读代码的会方便很多"
   ]
  },
  {
   "cell_type": "code",
   "execution_count": 6,
   "metadata": {},
   "outputs": [],
   "source": [
    "class ConvNet(nn.Module):\n",
    "    def __init__(self) -> None:\n",
    "        super().__init__()\n",
    "        # batch*1*28*28（每次会送入batch个样本，输入通道数1（黑白图像），图像分辨率是28x28）\n",
    "        # 下面的卷积层Conv2d的第一个参数指输入通道数，第二个参数指输出通道数，第三个参数指卷积核的大小\n",
    "        # 输入通道数1，输出通道数10，核的大小5x5\n",
    "        self.conv1 = nn.Conv2d(1, 10, 5)\n",
    "        # 输入通道数10，输出通道数20，核的大小3x3\n",
    "        self.conv2 = nn.Conv2d(10, 20, 3)\n",
    "        # 下面的全连接层Linear的第一个参数指输入通道数，第二个参数指输出通道数\n",
    "        # 输入通道数就是20*10*10，因为第二个卷积层的输出是20张特征图，每张特征图大小是10x10\n",
    "        self.fc1 = nn.Linear(20*10*10, 500)\n",
    "        # 输入通道数500，输出通道数10，即10分类\n",
    "        self.fc2 = nn.Linear(500, 10)\n",
    "        \n",
    "    def forward(self, x):\n",
    "        # 在本例中in_size=512，也就是BATCH_SIZE的值。输入的x可以看成是512*1*28*28的张量。\n",
    "        in_size = x.size(0) \n",
    "        # batch*1*28*28 -> batch*10*24*24（28x28的图像经过一次核为5x5的卷积，输出变为24x24）\n",
    "        out = self.conv1(x) \n",
    "        # batch*10*24*24（激活函数ReLU不改变形状））\n",
    "        out = F.relu(out)\n",
    "        # batch*10*24*24 -> batch*10*12*12（2*2的池化层会减少到原来的1/4）\n",
    "        out = F.max_pool2d(out, 2, 2)\n",
    "        # batch*10*12*12 -> batch*20*10*10（再卷积一次，核的大小是3x3, 输出变成10x10）\n",
    "        out = self.conv2(out)\n",
    "        # # batch*20*10*10\n",
    "        out = F.relu(out)\n",
    "        # batch*20*10*10 -> batch*2000（out的第二维是-1，说明是自动推算，本例中第二维是20*10*10）\n",
    "        out = out.view(in_size, -1) \n",
    "        # batch*2000 -> batch*500\n",
    "        out = self.fc1(out)\n",
    "        # batch*500\n",
    "        out = F.relu(out)\n",
    "        # batch*500 -> batch*10\n",
    "        out = self.fc2(out)\n",
    "        # batch*10\n",
    "        out = F.log_softmax(out, dim=1)\n",
    "        return out"
   ]
  },
  {
   "attachments": {},
   "cell_type": "markdown",
   "metadata": {},
   "source": [
    "\n",
    "我们实例化一个网络，实例化后使用.to方法将网络移动到GPU\n",
    "\n",
    "优化器我们也直接选择简单暴力的Adam"
   ]
  },
  {
   "cell_type": "code",
   "execution_count": 7,
   "metadata": {},
   "outputs": [],
   "source": [
    "model = ConvNet().to(DEVICE)\n",
    "optimizer = optim.Adam(model.parameters())"
   ]
  },
  {
   "attachments": {},
   "cell_type": "markdown",
   "metadata": {},
   "source": [
    "下面定义一下训练的函数，我们将训练的所有操作都封装到这个函数中"
   ]
  },
  {
   "cell_type": "code",
   "execution_count": 8,
   "metadata": {},
   "outputs": [],
   "source": [
    "def train(model, device, train_loader, optimizer, epoch):\n",
    "    model.train()\n",
    "    for batch_idx, (data, target) in enumerate(train_loader):\n",
    "        data, target = data.to(device), target.to(device) # 数据送入设备\n",
    "        optimizer.zero_grad() # 优化器梯度归零\n",
    "        output = model(data) # 数据送入模型\n",
    "        loss = F.cross_entropy(output, target) # 计算损失\n",
    "        loss.backward() # 损失反向传播\n",
    "        optimizer.step() # 优化器执行\n",
    "        if (batch_idx + 1) % 30 == 0:\n",
    "            print('Train Epoch: {} [{}/{} ({:.0f}%)]\\tLoss: {:.6f}'.format(\n",
    "                epoch, batch_idx * len(data), len(train_loader.dataset),\n",
    "                100. * batch_idx / len(train_loader), loss.item()))\n",
    "            "
   ]
  },
  {
   "attachments": {},
   "cell_type": "markdown",
   "metadata": {},
   "source": [
    "测试的操作也一样封装成一个函数"
   ]
  },
  {
   "cell_type": "code",
   "execution_count": 11,
   "metadata": {},
   "outputs": [],
   "source": [
    "def test(model, device, test_loader):\n",
    "    model\n",
    "    test_loss = 0\n",
    "    correct = 0\n",
    "    with torch.no_grad(): # 不计算梯度\n",
    "        for data, target in test_loader:\n",
    "            data, target = data.to(device), target.to(device)\n",
    "            output = model(data) # 数据送入模型\n",
    "            test_loss += F.cross_entropy(output, target, reduction='sum').item() # 计算损失\n",
    "            pred = output.max(1, keepdim=True)[1] # 找出概率最大的下标\n",
    "            correct += pred.eq(target.view_as(pred)).sum().item() # 计算正确的数量\n",
    "    test_loss /= len(test_loader.dataset)\n",
    "    print('\\nTest set: Average loss: {:.4f}, Accuracy: {}/{} ({:.0f}%)\\n'.format(\n",
    "            test_loss, correct, len(test_loader.dataset),\n",
    "            100. * correct / len(test_loader.dataset)))"
   ]
  },
  {
   "attachments": {},
   "cell_type": "markdown",
   "metadata": {},
   "source": [
    "下面开始训练，这里就体现出封装起来的好处了，只要写两行就可以了"
   ]
  },
  {
   "cell_type": "code",
   "execution_count": 12,
   "metadata": {},
   "outputs": [
    {
     "name": "stdout",
     "output_type": "stream",
     "text": [
      "Train Epoch: 1 [15360/60000 (25%)]\tLoss: 0.000475\n",
      "Train Epoch: 1 [30720/60000 (51%)]\tLoss: 0.019777\n",
      "Train Epoch: 1 [46080/60000 (76%)]\tLoss: 0.003232\n",
      "\n",
      "Test set: Average loss: 0.0387, Accuracy: 9893/10000 (99%)\n",
      "\n",
      "Train Epoch: 2 [15360/60000 (25%)]\tLoss: 0.001464\n",
      "Train Epoch: 2 [30720/60000 (51%)]\tLoss: 0.005010\n",
      "Train Epoch: 2 [46080/60000 (76%)]\tLoss: 0.002664\n",
      "\n",
      "Test set: Average loss: 0.0401, Accuracy: 9887/10000 (99%)\n",
      "\n",
      "Train Epoch: 3 [15360/60000 (25%)]\tLoss: 0.000771\n",
      "Train Epoch: 3 [30720/60000 (51%)]\tLoss: 0.003875\n",
      "Train Epoch: 3 [46080/60000 (76%)]\tLoss: 0.002161\n",
      "\n",
      "Test set: Average loss: 0.0393, Accuracy: 9894/10000 (99%)\n",
      "\n",
      "Train Epoch: 4 [15360/60000 (25%)]\tLoss: 0.002969\n",
      "Train Epoch: 4 [30720/60000 (51%)]\tLoss: 0.001285\n",
      "Train Epoch: 4 [46080/60000 (76%)]\tLoss: 0.000599\n",
      "\n",
      "Test set: Average loss: 0.0364, Accuracy: 9907/10000 (99%)\n",
      "\n",
      "Train Epoch: 5 [15360/60000 (25%)]\tLoss: 0.002274\n",
      "Train Epoch: 5 [30720/60000 (51%)]\tLoss: 0.000816\n",
      "Train Epoch: 5 [46080/60000 (76%)]\tLoss: 0.002157\n",
      "\n",
      "Test set: Average loss: 0.0405, Accuracy: 9899/10000 (99%)\n",
      "\n",
      "Train Epoch: 6 [15360/60000 (25%)]\tLoss: 0.004414\n",
      "Train Epoch: 6 [30720/60000 (51%)]\tLoss: 0.000513\n",
      "Train Epoch: 6 [46080/60000 (76%)]\tLoss: 0.000406\n",
      "\n",
      "Test set: Average loss: 0.0410, Accuracy: 9902/10000 (99%)\n",
      "\n",
      "Train Epoch: 7 [15360/60000 (25%)]\tLoss: 0.000680\n",
      "Train Epoch: 7 [30720/60000 (51%)]\tLoss: 0.005106\n",
      "Train Epoch: 7 [46080/60000 (76%)]\tLoss: 0.005904\n",
      "\n",
      "Test set: Average loss: 0.0500, Accuracy: 9873/10000 (99%)\n",
      "\n",
      "Train Epoch: 8 [15360/60000 (25%)]\tLoss: 0.003569\n",
      "Train Epoch: 8 [30720/60000 (51%)]\tLoss: 0.002499\n",
      "Train Epoch: 8 [46080/60000 (76%)]\tLoss: 0.001482\n",
      "\n",
      "Test set: Average loss: 0.0443, Accuracy: 9890/10000 (99%)\n",
      "\n",
      "Train Epoch: 9 [15360/60000 (25%)]\tLoss: 0.001265\n",
      "Train Epoch: 9 [30720/60000 (51%)]\tLoss: 0.005136\n",
      "Train Epoch: 9 [46080/60000 (76%)]\tLoss: 0.000974\n",
      "\n",
      "Test set: Average loss: 0.0425, Accuracy: 9899/10000 (99%)\n",
      "\n",
      "Train Epoch: 10 [15360/60000 (25%)]\tLoss: 0.002731\n",
      "Train Epoch: 10 [30720/60000 (51%)]\tLoss: 0.000537\n",
      "Train Epoch: 10 [46080/60000 (76%)]\tLoss: 0.001392\n",
      "\n",
      "Test set: Average loss: 0.0464, Accuracy: 9900/10000 (99%)\n",
      "\n",
      "Train Epoch: 11 [15360/60000 (25%)]\tLoss: 0.001391\n",
      "Train Epoch: 11 [30720/60000 (51%)]\tLoss: 0.003023\n",
      "Train Epoch: 11 [46080/60000 (76%)]\tLoss: 0.000573\n",
      "\n",
      "Test set: Average loss: 0.0509, Accuracy: 9898/10000 (99%)\n",
      "\n",
      "Train Epoch: 12 [15360/60000 (25%)]\tLoss: 0.001352\n",
      "Train Epoch: 12 [30720/60000 (51%)]\tLoss: 0.002656\n",
      "Train Epoch: 12 [46080/60000 (76%)]\tLoss: 0.000440\n",
      "\n",
      "Test set: Average loss: 0.0394, Accuracy: 9903/10000 (99%)\n",
      "\n",
      "Train Epoch: 13 [15360/60000 (25%)]\tLoss: 0.000309\n",
      "Train Epoch: 13 [30720/60000 (51%)]\tLoss: 0.000424\n",
      "Train Epoch: 13 [46080/60000 (76%)]\tLoss: 0.000490\n",
      "\n",
      "Test set: Average loss: 0.0398, Accuracy: 9905/10000 (99%)\n",
      "\n",
      "Train Epoch: 14 [15360/60000 (25%)]\tLoss: 0.000467\n",
      "Train Epoch: 14 [30720/60000 (51%)]\tLoss: 0.000085\n",
      "Train Epoch: 14 [46080/60000 (76%)]\tLoss: 0.000359\n",
      "\n",
      "Test set: Average loss: 0.0392, Accuracy: 9911/10000 (99%)\n",
      "\n",
      "Train Epoch: 15 [15360/60000 (25%)]\tLoss: 0.000044\n",
      "Train Epoch: 15 [30720/60000 (51%)]\tLoss: 0.000052\n",
      "Train Epoch: 15 [46080/60000 (76%)]\tLoss: 0.000158\n",
      "\n",
      "Test set: Average loss: 0.0403, Accuracy: 9912/10000 (99%)\n",
      "\n",
      "Train Epoch: 16 [15360/60000 (25%)]\tLoss: 0.000110\n",
      "Train Epoch: 16 [30720/60000 (51%)]\tLoss: 0.000019\n",
      "Train Epoch: 16 [46080/60000 (76%)]\tLoss: 0.000039\n",
      "\n",
      "Test set: Average loss: 0.0415, Accuracy: 9907/10000 (99%)\n",
      "\n",
      "Train Epoch: 17 [15360/60000 (25%)]\tLoss: 0.000038\n",
      "Train Epoch: 17 [30720/60000 (51%)]\tLoss: 0.000206\n",
      "Train Epoch: 17 [46080/60000 (76%)]\tLoss: 0.000055\n",
      "\n",
      "Test set: Average loss: 0.0411, Accuracy: 9913/10000 (99%)\n",
      "\n",
      "Train Epoch: 18 [15360/60000 (25%)]\tLoss: 0.000030\n",
      "Train Epoch: 18 [30720/60000 (51%)]\tLoss: 0.000044\n",
      "Train Epoch: 18 [46080/60000 (76%)]\tLoss: 0.000034\n",
      "\n",
      "Test set: Average loss: 0.0414, Accuracy: 9910/10000 (99%)\n",
      "\n",
      "Train Epoch: 19 [15360/60000 (25%)]\tLoss: 0.000015\n",
      "Train Epoch: 19 [30720/60000 (51%)]\tLoss: 0.000027\n",
      "Train Epoch: 19 [46080/60000 (76%)]\tLoss: 0.000018\n",
      "\n",
      "Test set: Average loss: 0.0416, Accuracy: 9915/10000 (99%)\n",
      "\n",
      "Train Epoch: 20 [15360/60000 (25%)]\tLoss: 0.000033\n",
      "Train Epoch: 20 [30720/60000 (51%)]\tLoss: 0.000034\n",
      "Train Epoch: 20 [46080/60000 (76%)]\tLoss: 0.000053\n",
      "\n",
      "Test set: Average loss: 0.0419, Accuracy: 9912/10000 (99%)\n",
      "\n"
     ]
    }
   ],
   "source": [
    "for eoch in range(1, EPOCHS + 1):\n",
    "    train(model, DEVICE, train_loader, optimizer, eoch)\n",
    "    test(model, DEVICE, test_loader)"
   ]
  },
  {
   "attachments": {},
   "cell_type": "markdown",
   "metadata": {},
   "source": [
    "我们看一下结果，准确率99%，没问题\n",
    "\n",
    "如果你的模型连MNIST都搞不定，那么你的模型没有任何的价值\n",
    "\n",
    "即使你的模型搞定了MNIST，你的模型也可能没有任何的价值\n",
    "\n",
    "MNIST是一个很简单的数据集，由于它的局限性只能作为研究用途，对实际应用带来的价值非常有限。但是通过这个例子，我们可以完全了解一个实际项目的工作流程\n",
    "\n",
    "我们找到数据集，对数据做预处理，定义我们的模型，调整超参数，测试训练，再通过训练结果对超参数进行调整或者对模型进行调整。\n",
    "\n",
    "并且通过这个实战我们已经有了一个很好的模板，以后的项目都可以以这个模板为样例"
   ]
  }
 ],
 "metadata": {
  "kernelspec": {
   "display_name": "Python 3",
   "language": "python",
   "name": "python3"
  },
  "language_info": {
   "codemirror_mode": {
    "name": "ipython",
    "version": 3
   },
   "file_extension": ".py",
   "mimetype": "text/x-python",
   "name": "python",
   "nbconvert_exporter": "python",
   "pygments_lexer": "ipython3",
   "version": "3.8.10"
  },
  "orig_nbformat": 4
 },
 "nbformat": 4,
 "nbformat_minor": 2
}
