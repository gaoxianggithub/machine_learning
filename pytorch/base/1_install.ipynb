{
 "cells": [
  {
   "attachments": {},
   "cell_type": "markdown",
   "metadata": {},
   "source": [
    "# 1 Pytorch环境搭建\n",
    "## 1.1 安装\n",
    "[官方安装教程](https://pytorch.org/get-started/locally/)\n",
    "官网教程还是很舒服的，选择对应环境，即可安装，我的环境是\n",
    "* ubuntu20.04\n",
    "* pip(因为我安装时，conda还不支持ROCm,只能用pip)\n",
    "* GPU：AMD Radeon RX 6600 XT\n",
    "* CPU：AMD Ryzen 7 5800X\n",
    "所以我的安装命令就是：\n",
    "\n",
    "```pip3 install torch torchvision torchaudio --index-url https://download.pytorch.org/whl/rocm5.4.2```\n",
    "\n",
    "测试下，是不是安装成功了，顺便看看amd的显卡能不能工作,amd显卡也是cuda哦"
   ]
  },
  {
   "cell_type": "code",
   "execution_count": 1,
   "metadata": {},
   "outputs": [
    {
     "data": {
      "text/plain": [
       "True"
      ]
     },
     "execution_count": 1,
     "metadata": {},
     "output_type": "execute_result"
    }
   ],
   "source": [
    "import torch\n",
    "torch.cuda.is_available()"
   ]
  },
  {
   "attachments": {},
   "cell_type": "markdown",
   "metadata": {},
   "source": [
    "成功了，泪崩，之前ROCm在tensorflow失败了太多次了，现在终于可以说amd YES！：）\n",
    "---2023/5/8更新--\n",
    "失败的原因找到了，应该就是显卡版本没有对上\n",
    "记得在环境变量里加上这个就可以了：\n",
    "HSA_OVERRIDE_GFX_VERSION=10.3.0"
   ]
  }
 ],
 "metadata": {
  "kernelspec": {
   "display_name": "ml",
   "language": "python",
   "name": "python3"
  },
  "language_info": {
   "codemirror_mode": {
    "name": "ipython",
    "version": 3
   },
   "file_extension": ".py",
   "mimetype": "text/x-python",
   "name": "python",
   "nbconvert_exporter": "python",
   "pygments_lexer": "ipython3",
   "version": "3.8.16"
  },
  "orig_nbformat": 4
 },
 "nbformat": 4,
 "nbformat_minor": 2
}
