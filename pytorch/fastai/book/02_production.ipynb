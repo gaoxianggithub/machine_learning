{
 "cells": [
  {
   "cell_type": "code",
   "execution_count": 1,
   "metadata": {},
   "outputs": [],
   "source": [
    "#hide\n",
    "! [ -e /content ] && pip install -Uqq fastbook\n",
    "import fastbook\n",
    "fastbook.setup_book()\n",
    "#hide\n",
    "from fastbook import *\n",
    "from fastai.vision.widgets import *"
   ]
  },
  {
   "attachments": {},
   "cell_type": "markdown",
   "metadata": {},
   "source": [
    "\n",
    "# 从模型到生产\n",
    "\n",
    "我们在<<chapter_intro>>中看到的六行代码只是使用深度学习在实践中的一个小部分。在本章中，我们将使用一个计算机视觉的例子来展示创建深度学习应用的端到端过程。具体来说，我们将构建一个熊分类器！在这个过程中，我们将讨论深度学习的能力和限制，探索如何创建数据集，讨论在实践中使用深度学习时可能遇到的问题等等。许多关键点同样适用于其他深度学习问题，比如在<<chapter_intro>>中介绍的问题。如果你解决一个在关键方面类似于我们示例问题的问题，我们预计你可以用很少的代码迅速获得出色的结果。\n",
    "\n",
    "让我们从如何定义你的问题开始。"
   ]
  },
  {
   "attachments": {},
   "cell_type": "markdown",
   "metadata": {},
   "source": [
    "## 深度学习的练习\n",
    "我们已经看到，深度学习可以快速解决许多具有挑战性的问题，并且所需的代码很少。作为一个初学者，有一类问题与我们的示例问题相似，你可以非常快速地获得极其有用的结果。然而，深度学习并非魔法！同样的六行代码不会适用于今天任何人能想到的所有问题。低估深度学习的限制和高估其能力可能导致令人沮丧的糟糕结果，至少在你积累一些经验并能够解决出现的问题之前是如此。相反，高估深度学习的限制和低估其能力可能意味着你不会尝试解决一个可以解决的问题，因为你自己否定了它。\n",
    "\n",
    "我们经常与低估深度学习的限制和能力的人交谈。这两者都可能成为问题：低估能力意味着你可能连尝试对你非常有益的事情都不会，而低估限制可能意味着你未能考虑和应对重要问题。\n",
    "\n",
    "最好的方法是保持开放的心态。如果你对深度学习可能以比你预期的更少的数据或复杂性解决问题的可能性保持开放态度，那么你可以设计一个过程，在这个过程中，你可以找到与你特定问题相关的具体能力和限制。这并不意味着要进行任何冒险的赌注——我们将向你展示如何逐步推出模型，以便它们不会带来重大风险，甚至可以在投入生产之前进行回测。"
   ]
  },
  {
   "attachments": {},
   "cell_type": "markdown",
   "metadata": {},
   "source": [
    "### 开始你的项目\n",
    "那么在深度学习的旅程中应该从哪里开始呢？最重要的是确保你有一个项目可以进行——只有通过在自己的项目上工作，你才能真正获得建立和使用模型的实际经验。在选择项目时，最重要的考虑因素是数据的可用性。无论你是为了自己的学习还是为了在组织中进行实际应用，你都希望选择一个可以快速入手的项目。我们见过许多学生、研究人员和行业从业者在试图找到完美的数据集时浪费了数月甚至数年的时间。目标不是找到“完美”的数据集或项目，而是要开始并从中进行迭代。\n",
    "\n",
    "如果你采用这种方法，那么在完美主义者还处于计划阶段时，你已经进行了第三次学习和改进！\n",
    "\n",
    "我们还建议你在项目中进行端到端的迭代；也就是说，不要花费数月时间微调模型，或打磨完美的图形用户界面，或标记完美的数据集...相反，以合理的时间完成每一步，直到最后。例如，如果你最终的目标是在手机上运行的应用程序，那么每次迭代后你应该拥有这个目标。但在早期迭代中，你可以采取一些捷径，例如在远程服务器上进行所有处理，并使用一个简单的响应式网络应用程序。通过端到端完成项目，你将看到最棘手的部分在哪里，哪些部分对最终结果产生最大的影响。"
   ]
  },
  {
   "attachments": {},
   "cell_type": "markdown",
   "metadata": {},
   "source": [
    "在阅读本书的过程中，我们建议你完成许多小型实验，通过运行和调整我们提供的笔记本，同时逐渐开发自己的项目。这样，当我们讨论这些工具和技术时，你将获得实践经验。\n",
    "\n",
    "> 为了充分利用本书，我们建议你在每章之间进行实验，无论是在自己的项目上还是通过探索我们提供的笔记本。然后尝试在一个新的数据集上从头开始重写这些笔记本。只有通过大量实践（和失败），你才能对如何训练模型有直观的理解。\n",
    "\n",
    "通过使用端到端的迭代方法，你还将更好地了解到底需要多少数据。例如，你可能发现只能轻松获取200个标记的数据项，而你只有在尝试之后才能知道这是否足以使你的应用在实践中表现良好。\n",
    "\n",
    "在组织环境中，通过展示一个真实的工作原型，你将能够向同事展示你的想法真正可行。我们反复观察到，这是获得项目组织支持的关键。"
   ]
  },
  {
   "attachments": {},
   "cell_type": "markdown",
   "metadata": {},
   "source": [
    "由于最容易开始的项目是那些你已经有可用数据的项目，所以与你已经在做的事情相关的项目可能是最容易入手的，因为你已经有关于你所做事情的数据。例如，如果你在音乐行业工作，你可能可以访问许多音频录音。如果你是一名放射科医师，你可能可以访问大量的医学影像。如果你对野生动物保护感兴趣，你可能可以获取大量野生动物的图像。\n",
    "\n",
    "有时，你需要有点创造性。也许你可以找到一些以前的机器学习项目，例如 Kaggle 竞赛，与你感兴趣的领域相关。有时，你需要做出妥协。也许你无法找到精确符合你想法的项目所需的数据；但你可能能够找到一些来自类似领域的数据，或者以不同方式测量的数据，解决略有不同的问题。从事这些类似的项目仍然可以让你对整个过程有一个良好的理解，并可能帮助你找到其他捷径、数据源等等。\n",
    "\n",
    "特别是当你刚开始使用深度学习时，最好不要涉足非常不同的领域，那些深度学习尚未应用到的领域。这是因为如果你的模型一开始就不起作用，你将不知道是因为你犯了错误，还是因为你试图解决的问题根本无法用深度学习解决。你也不知道该去哪里寻求帮助。因此，最好从一些可以在网上找到与你尝试实现的目标至少有些相似的示例并取得良好结果的项目开始，或者你可以将你的数据转换成其他人之前使用过的格式（例如从你的数据创建图像）。让我们来看一下深度学习的现状，这样你就知道深度学习目前擅长解决哪些问题。"
   ]
  },
  {
   "attachments": {},
   "cell_type": "markdown",
   "metadata": {},
   "source": [
    "### 深度学习的现状\n",
    "让我们首先考虑深度学习在你希望解决的问题上是否能够发挥作用。本节概述了2020年初深度学习的现状。然而，事情变化很快，当你阅读本书时，其中一些限制可能已经不存在了。我们将尽量保持本书网站的最新信息；此外，通过在谷歌上搜索“现在人工智能能做什么”，你很可能获得最新的信息。"
   ]
  },
  {
   "attachments": {},
   "cell_type": "markdown",
   "metadata": {},
   "source": [
    "#### 计算机视觉\n",
    "深度学习尚未被广泛应用于许多领域中的图像分析，但在已经尝试过的领域中，几乎普遍显示计算机可以至少与人类一样准确地识别图像中的物体，甚至包括经过专门训练的人员，如放射科医生。这被称为物体识别。深度学习还擅长识别图像中物体的位置，并可以突出显示它们的位置并命名每个找到的物体。这被称为物体检测（我们在<>中看到了其中的一个变体，即根据像素所属的物体类型对每个像素进行分类，称为分割）。深度学习算法通常不擅长识别结构或风格与训练模型使用的图像显著不同的图像。例如，如果训练数据中没有黑白图像，则模型在黑白图像上可能表现不佳。同样，如果训练数据中不包含手绘图像，则模型在手绘图像上可能表现不佳。没有一种通用的方法可以检查训练集中缺少哪些类型的图像，但我们将在本章中介绍一些方法，尝试在模型在生产中使用时识别出现意外图像类型的情况（这被称为检测域外数据）。\n",
    "物体检测系统面临的一个主要挑战是图像标注可能会很慢且昂贵。目前有很多工作正在致力于开发工具，以尝试加快和简化标注过程，并减少训练准确的物体检测模型所需的手工标签数量。一种特别有用的方法是通过合成生成输入图像的变体，例如旋转图像或更改其亮度和对比度；这被称为数据增强，对于文本和其他类型的模型也很有效。我们将在本章中详细讨论它。\n",
    "另一个要考虑的问题是，尽管您的问题可能看起来不像是一个计算机视觉问题，但只要稍加想象力，可能就可以将其转化为一个计算机视觉问题。例如，如果您要对声音进行分类，可以尝试将声音转换为其声学波形的图像，然后在这些图像上训练模型。"
   ]
  },
  {
   "attachments": {},
   "cell_type": "markdown",
   "metadata": {},
   "source": [
    "#### NLP\n",
    "计算机非常擅长基于类别对短文档和长文档进行分类，例如垃圾邮件或非垃圾邮件、情感（例如评论是积极的还是消极的）、作者、来源网站等等。我们不了解该领域是否进行了严格的与人类进行比较的研究，但根据经验，深度学习在这些任务上的性能似乎与人类相似。深度学习还非常擅长生成与上下文相关的文本，例如回复社交媒体帖子，并模仿特定作者的风格。它能够使这些内容对人类更具吸引力，事实上，甚至比人类生成的文本更具吸引力。然而，目前深度学习在生成正确回复方面还不够好！我们目前没有可靠的方法，例如将医学信息的知识库与生成医学上正确自然语言回复的深度学习模型相结合。这非常危险，因为创建对于外行人看来非常有吸引力但实际上完全错误的内容是如此容易。\n",
    "\n",
    "另一个问题是，在社交媒体上生成与上下文相关、极具吸引力的回复可以被大规模使用，远远超过以前见过的任何网络喷子，用于传播虚假信息、制造不安定和鼓励冲突。通常情况下，文本生成模型在技术上总是稍微领先于自动生成文本的模型。例如，可以使用一个能够识别人工生成内容的模型来改进创建该内容的生成模型，直到分类模型无法完成其任务为止。\n",
    "\n",
    "尽管存在这些问题，深度学习在自然语言处理（NLP）中有许多应用：可以用于将文本从一种语言翻译成另一种语言，将长文档摘要成更易消化的内容，找到感兴趣概念的所有提及等等。不幸的是，翻译或摘要可能包含完全错误的信息！然而，性能已经足够好，以至于许多人正在使用这些系统，例如Google的在线翻译系统（以及我们所知道的其他在线服务）就是基于深度学习的。"
   ]
  },
  {
   "attachments": {},
   "cell_type": "markdown",
   "metadata": {},
   "source": [
    "#### 图文组合\n",
    "\n",
    "深度学习将文本和图像结合到单个模型中的能力通常比大多数人直觉所预期的要好得多。例如，可以训练一个深度学习模型，以英文编写的图像描述作为输入，自动为新图像生成令人惊讶地恰当的描述！但是，同样地，我们要再次强调前面讨论过的警告：这些描述并不能保证是正确的。\n",
    "\n",
    "由于这个严重问题，我们一般建议将深度学习用作一个与人类用户密切交互的过程的一部分，而不是作为完全自动化的过程。这样的处理方式可以使人类的生产力比完全手动方法提高数个数量级，并且实际上可以比单独使用人类获得更准确的结果。例如，可以使用自动系统直接从CT扫描中识别潜在的中风患者，并发送高优先级警报，以便快速查看这些扫描结果。中风治疗只有三个小时的时间窗口，因此这种快速的反馈循环可以拯救生命。与此同时，所有的扫描结果仍然可以按照通常的方式发送给放射科医生，因此不会减少人类的参与。其他深度学习模型可以自动测量扫描结果中的项目，并将这些测量值插入报告中，警告放射科医生可能错过的发现，并告知他们可能相关的其他病例。"
   ]
  },
  {
   "attachments": {},
   "cell_type": "markdown",
   "metadata": {},
   "source": [
    "#### 表格数据\n",
    "近年来，深度学习在分析时间序列和表格数据方面取得了巨大进展。然而，深度学习通常作为多种模型组合的一部分来使用。如果您已经使用了随机森林或梯度提升机等流行的表格建模工具（您即将学习），那么切换或添加深度学习可能不会带来显著的改进。深度学习确实大大增加了您可以包含的列的种类，例如包含自然语言（书名、评论等）和高基数分类列（即包含大量离散选择的列，如邮编或产品ID）。但是，深度学习模型通常比随机森林或梯度提升机的训练时间更长，尽管由于诸如RAPIDS等库的存在，这一情况正在发生改变，RAPIDS为整个建模流程提供了GPU加速。我们在<>中详细介绍了所有这些方法的优缺点。（原文中提到的具体章节或部分缺失）"
   ]
  },
  {
   "attachments": {},
   "cell_type": "markdown",
   "metadata": {},
   "source": [
    "#### 推荐系统\n",
    "推荐系统是一种特殊类型的表格数据。特别是，它们通常具有表示用户和产品（或类似内容）的高基数分类变量。像亚马逊这样的公司将顾客的所有购买记录表示为一个巨大的稀疏矩阵，其中顾客是行，产品是列。一旦将数据以这种格式准备好，数据科学家会应用某种形式的协同过滤算法来填充矩阵。例如，如果用户A购买了产品1和10，用户B购买了产品1、2、4和10，推荐系统会建议用户A购买产品2和4。由于深度学习模型擅长处理高基数分类变量，它们在处理推荐系统时非常有效。就像处理表格数据时一样，当将这些变量与其他类型的数据（如自然语言或图像）结合时，深度学习模型能够发挥出色的作用。它们还可以很好地将所有这些类型的信息与作为表格表示的附加元数据相结合，例如用户信息、先前的交易等。\n",
    "\n",
    "然而，几乎所有机器学习方法都有一个缺点，它们只告诉您特定用户可能喜欢哪些产品，而不是对用户有用的推荐。许多关于用户可能喜欢的产品的推荐可能并不总是有用的，例如，如果用户已经熟悉这些产品，或者如果它们只是他们已经购买过的产品的不同包装形式（例如，一个小说的套装，当他们已经拥有该套装中的每一本书时）。Jeremy喜欢阅读特里·普拉切特（Terry Pratchett）的书，在一段时间里，亚马逊一直向他推荐特里·普拉切特的书，这实际上并不有用，因为他已经知道这些书！"
   ]
  },
  {
   "attachments": {},
   "cell_type": "markdown",
   "metadata": {},
   "source": [
    "#### 其他类型的数据\n",
    "通常情况下，你会发现领域特定的数据类型非常适合现有的分类。例如，蛋白质链在很多方面与自然语言文档非常相似，因为它们是由一系列离散标记组成的长序列，在整个序列中具有复杂的关系和含义。事实上，使用自然语言处理（NLP）的深度学习方法已经成为许多蛋白质分析的最先进方法。另一个例子是，声音可以表示为频谱图，可以将其视为图像；标准的图像深度学习方法在频谱图上也表现出色。"
   ]
  },
  {
   "attachments": {},
   "cell_type": "markdown",
   "metadata": {},
   "source": [
    "### 驱动系统方法（Drivetrain Approach）\n",
    "有许多准确的模型对任何人都没有用处，也有许多不准确的模型非常有用。为了确保你的建模工作在实践中有用，你需要考虑如何使用你的工作。2012年，Jeremy与Margit Zwemer和Mike Loukides一起引入了一种称为`Drivetrain Approach`的思考方式。\n",
    "\n",
    "“驱动系统方法”在《设计出色的数据产品》中有详细描述。基本思想是从考虑你的目标开始，然后思考你可以采取哪些行动来实现这个目标以及你拥有的（或可以获取的）可以帮助的数据，然后构建一个模型，你可以使用它来确定为了实现你的目标而采取的最佳行动。\n",
    "\n",
    "以自动驾驶车辆中的模型为例：你希望帮助汽车在没有人为干预的情况下安全地从A点驶向B点。优秀的预测建模是解决方案的重要组成部分，但它并不能独立存在；随着产品变得更加复杂，它逐渐融入其中。使用自动驾驶汽车的人对于使其运行的数百个（甚至数千个）模型和以M字节计的数据毫无察觉。但随着数据科学家构建越来越复杂的产品，他们需要一种系统的设计方法。\n",
    "\n",
    "我们使用数据不仅仅是为了产生更多数据（以预测的形式），而是为了产生可操作的结果。这就是“驱动系统方法”的目标。首先，明确定义一个清晰的目标。例如，Google在创建他们的第一个搜索引擎时考虑了“用户在输入搜索查询时的主要目标是什么？”这使他们达到了他们的目标，即“显示最相关的搜索结果”。接下来，考虑你可以采取哪些控制手段（即可以采取的行动）来更好地实现这个目标。在Google的情况下，这是搜索结果的排名。第三步是考虑他们需要什么样的新数据来生成这样的排名；他们意识到可以利用页面之间链接的隐含信息来实现这个目的。只有在完成这前三个步骤后，我们才开始考虑构建预测模型。我们的目标和可用的控制手段，我们已经拥有的数据以及我们需要收集的额外数据，决定了我们可以构建的模型。这些模型将以控制手段和任何不可控制的变量作为输入；模型的输出可以组合起来预测我们目标的最终状态。"
   ]
  },
  {
   "attachments": {},
   "cell_type": "markdown",
   "metadata": {},
   "source": [
    "让我们再考虑另一个例子：推荐系统。推荐引擎的目标是通过出人意料且令顾客愉悦的推荐，推动额外的销售，使顾客购买他们在没有推荐的情况下不会购买的物品。控制手段是推荐的排名。为了生成能够带来新销售的推荐，必须收集新数据。这将需要进行许多随机实验，以收集关于各种顾客的各种推荐的数据。这是很少有组织采取的一步；但是如果没有这一步，你就没有实际上根据真正的目标（更多销售！）来优化推荐所需的信息。\n",
    "\n",
    "最后，你可以构建两个购买概率模型，条件是是否看到推荐。这两个概率之间的差异是对于给定顾客的推荐的效用函数。当算法推荐一个顾客已经拒绝过的熟悉书籍（两个分量都很小）或者一个即使没有推荐他们也会购买的书籍（两个分量都很大并相互抵消）时，效用函数会很低。\n",
    "\n",
    "正如你所看到的，在实践中，实际实施你的模型通常需要远不止训练一个模型！你通常需要进行实验来收集更多的数据，并考虑如何将你的模型融入到你正在开发的整个系统中。说到数据，现在让我们专注于如何为你的项目找到数据。"
   ]
  },
  {
   "attachments": {},
   "cell_type": "markdown",
   "metadata": {},
   "source": [
    "## 获取数据\n",
    "对于许多类型的项目，你可能能够在互联网上找到所需的所有数据。在本章中，我们将完成一个熊识别器。它将区分三种类型的熊：灰熊、黑熊和泰迪熊。互联网上有许多每种熊的图片可供我们使用。我们只需要一种方法来找到它们并下载它们。我们提供了一个工具供你使用，这样你就可以跟随本章的内容，并为你感兴趣的任何对象创建自己的图像识别应用程序。在fast.ai课程中，成千上万的学生在课程论坛上展示了他们的作品，展示了从特立尼达的蜂鸟品种到巴拿马的公交车种类的一切——一位学生甚至创建了一个应用程序，在圣诞假期期间帮助他的未婚妻认出他的16个表兄弟姐妹！\n",
    "\n",
    "在撰写本书时，我们所知的用于查找和下载图像的最佳选择是Bing图像搜索。每月可免费进行1,000次查询，并且每个查询可下载多达150个图像。然而，在我们撰写本书和你阅读本书之间，可能会有更好的选择出现，所以请务必查看本书网站，获取我们当前的推荐信息。\n",
    "\n",
    "重要提示：保持与最新服务的联系：可用于创建数据集的服务经常出现并消失，它们的功能、接口和定价也经常变化。在本节中，我们将展示如何使用Bing图像搜索API（在撰写本书时可用）。我们将在本书的网站上提供更多选项和更新的信息，所以请确保现在去那里查看如何从互联网上下载图像以创建深度学习数据集的最新信息。"
   ]
  },
  {
   "attachments": {},
   "cell_type": "markdown",
   "metadata": {},
   "source": [
    "# 整理\n",
    "要使用Bing图像搜索下载图像，请在Microsoft Azure上注册一个免费帐户。你将获得一个密钥，你可以复制并输入到一个单元格中，如下所示（将“XXX”替换为你的密钥并执行）："
   ]
  },
  {
   "cell_type": "code",
   "execution_count": 5,
   "metadata": {},
   "outputs": [
    {
     "data": {
      "text/plain": [
       "['https://www.pexels.com/photo/brown-bear-on-a-body-of-water-158109/',\n",
       " 'https://www.pexels.com/photo/close-up-photography-of-grizzly-bear-1068554/',\n",
       " 'https://www.pexels.com/photo/grizzly-bear-walking-beside-pond-162340/',\n",
       " 'https://www.pexels.com/photo/shallow-focus-photo-of-bear-3634926/',\n",
       " 'https://www.pexels.com/photo/close-up-photo-of-grizzly-bear-3048722/',\n",
       " 'https://www.pexels.com/photo/brown-bear-lying-on-green-lawn-grass-158140/',\n",
       " 'https://www.pexels.com/photo/photo-of-grizzly-bear-1328414/',\n",
       " 'https://www.pexels.com/photo/photo-of-wet-brown-grizzly-bear-sitting-2561205/',\n",
       " 'https://www.pexels.com/photo/big-brown-bear-2555825/',\n",
       " 'https://www.pexels.com/photo/brown-grizzly-bear-on-black-metal-fence-162368/',\n",
       " 'https://www.pexels.com/photo/brown-bear-35435/',\n",
       " 'https://www.pexels.com/photo/grizzly-bear-beside-river-and-trees-2917106/',\n",
       " 'https://www.pexels.com/photo/brown-bear-near-green-plant-162131/',\n",
       " 'https://www.pexels.com/photo/animal-animal-world-bear-big-158233/',\n",
       " 'https://www.pexels.com/photo/brown-bear-shallow-focus-photography-1499104/',\n",
       " 'https://www.pexels.com/photo/grizzly-bear-swimming-in-water-539689/',\n",
       " 'https://www.pexels.com/photo/brown-bear-on-green-grass-9557974/',\n",
       " 'https://www.pexels.com/photo/brown-bear-on-green-grass-2546941/',\n",
       " 'https://www.pexels.com/photo/brown-bears-on-riverside-7006416/',\n",
       " 'https://www.pexels.com/photo/brown-bear-in-close-up-photography-7017429/',\n",
       " 'https://www.pexels.com/photo/close-up-photo-of-brown-bear-14655948/',\n",
       " 'https://www.pexels.com/photo/a-brown-bear-on-brown-tree-trunk-10086380/',\n",
       " 'https://www.pexels.com/photo/photo-of-a-brown-grizzly-bear-14655949/',\n",
       " 'https://www.pexels.com/photo/grizzly-bear-standing-on-ground-12806957/',\n",
       " 'https://www.pexels.com/photo/close-up-shot-of-a-grizzly-bear-5732610/',\n",
       " 'https://www.pexels.com/photo/a-brown-bear-standing-on-green-grass-7944483/',\n",
       " 'https://www.pexels.com/photo/a-brown-and-black-bear-on-green-grass-12753410/',\n",
       " 'https://www.pexels.com/photo/brown-bear-lying-on-the-ground-13421896/',\n",
       " 'https://www.pexels.com/photo/close-up-photo-of-a-bear-12959892/',\n",
       " 'https://www.pexels.com/photo/brown-bear-walking-on-green-grass-14382748/',\n",
       " 'https://www.pexels.com/photo/brown-bear-sitting-on-a-big-rock-14125124/',\n",
       " 'https://www.pexels.com/photo/close-up-photo-of-a-grizzly-bear-14431197/',\n",
       " 'https://www.pexels.com/photo/brown-bears-on-riverside-7006418/',\n",
       " 'https://www.pexels.com/photo/two-grizzly-bears-fighting-in-water-7311726/',\n",
       " 'https://www.pexels.com/photo/brown-bear-lying-on-tire-7406505/',\n",
       " 'https://www.pexels.com/photo/close-up-of-a-grizzly-bear-in-water-12750001/',\n",
       " 'https://www.pexels.com/photo/a-cute-bear-on-the-rock-10622951/',\n",
       " 'https://www.pexels.com/photo/close-up-shot-of-grizzly-bear-12167826/',\n",
       " 'https://www.pexels.com/photo/brown-bear-in-the-zoo-14655865/',\n",
       " 'https://www.pexels.com/photo/brown-bear-in-close-up-photography-14655943/',\n",
       " 'https://www.pexels.com/photo/brown-bear-in-the-zoo-14655945/',\n",
       " 'https://www.pexels.com/photo/close-up-photo-of-a-grizzly-bear-14655953/',\n",
       " 'https://www.pexels.com/photo/close-up-shot-of-a-grizzly-bear-9877293/',\n",
       " 'https://www.pexels.com/photo/photo-of-a-dirty-grizzly-bear-13638145/',\n",
       " 'https://www.pexels.com/photo/a-grizzly-bear-near-the-rocks-7459670/',\n",
       " 'https://www.pexels.com/photo/a-grizzly-bear-on-a-tree-log-14951664/',\n",
       " 'https://www.pexels.com/photo/a-grizzly-bear-on-grass-7944484/',\n",
       " 'https://www.pexels.com/photo/brown-bear-on-brown-field-9559343/',\n",
       " 'https://www.pexels.com/photo/black-bear-crawling-on-green-grass-7723474/',\n",
       " 'https://www.pexels.com/photo/ours-11612009/',\n",
       " 'https://www.pexels.com/photo/close-up-shot-of-a-grizzly-bear-12953541/',\n",
       " 'https://www.pexels.com/photo/grizzly-bear-swimming-in-a-pond-12956019/',\n",
       " 'https://www.pexels.com/photo/brown-grizzly-bear-walking-on-brown-field-13685856/',\n",
       " 'https://www.pexels.com/photo/grizzly-bear-walking-near-a-wood-log-14892955/',\n",
       " 'https://www.pexels.com/photo/brown-bear-on-green-grass-field-14892957/',\n",
       " 'https://www.pexels.com/photo/brown-grizzly-bear-in-close-up-photography-14655952/',\n",
       " 'https://www.pexels.com/photo/brown-bear-on-water-near-the-forest-7006422/',\n",
       " 'https://www.pexels.com/photo/portrait-of-a-grizzly-bear-7311831/',\n",
       " 'https://www.pexels.com/photo/animal-animal-photography-bear-big-213988/',\n",
       " 'https://www.pexels.com/photo/brown-bear-on-brown-wood-1083502/',\n",
       " 'https://www.pexels.com/photo/grizzly-bear-in-close-up-photography-7183267/',\n",
       " 'https://www.pexels.com/photo/wild-brown-bears-expressing-affection-7515369/',\n",
       " 'https://www.pexels.com/photo/close-up-photo-of-a-grizzly-bear-11118588/',\n",
       " 'https://www.pexels.com/photo/brown-grizzly-bear-14681702/',\n",
       " 'https://www.pexels.com/photo/a-grizzly-bear-7193045/',\n",
       " 'https://www.pexels.com/photo/bear-walking-on-logs-and-stones-7465120/',\n",
       " 'https://www.pexels.com/photo/bear-cub-walking-near-mother-7515368/',\n",
       " 'https://www.pexels.com/photo/beautiful-brown-bear-on-the-ground-6780335/',\n",
       " 'https://www.pexels.com/photo/a-bear-sitting-on-a-tree-5577223/',\n",
       " 'https://www.pexels.com/photo/brown-bear-walking-on-lakeside-7006420/',\n",
       " 'https://www.pexels.com/photo/wild-bear-with-fish-in-its-mouth-on-water-7140038/',\n",
       " 'https://www.pexels.com/photo/a-grizzly-bear-on-grass-near-a-tree-7944485/',\n",
       " 'https://www.pexels.com/photo/brown-bear-lying-on-dry-leaves-10172222/',\n",
       " 'https://www.pexels.com/photo/brown-bear-on-snow-covered-ground-12502715/',\n",
       " 'https://www.pexels.com/photo/black-and-brown-bear-on-gray-rock-7492295/',\n",
       " 'https://www.pexels.com/photo/bear-sitting-on-the-ground-7141688/',\n",
       " 'https://www.pexels.com/photo/nature-animal-zoo-bear-34700/',\n",
       " 'https://www.pexels.com/photo/brown-bear-on-body-of-water-1466592/',\n",
       " 'https://www.pexels.com/photo/brown-bears-on-green-grass-13368138/',\n",
       " 'https://www.pexels.com/photo/brown-bear-leaning-on-a-tree-trunk-9579163/']"
      ]
     },
     "execution_count": 5,
     "metadata": {},
     "output_type": "execute_result"
    }
   ],
   "source": [
    "# 我这里是使用pexels来下载图像的,所以和推荐的bing有所不同， 这里获取了150只熊的图片url\n",
    "from pexels_api import API\n",
    "# Type your Pexels API\n",
    "PEXELS_API_KEY = 'hvf1ts9OFigpp3XNf2KTqItTO1k4xtFEcDuwWgD7hU5z1QG06XVjbEcu'\n",
    "# Create API object\n",
    "api = API(PEXELS_API_KEY)\n",
    "# Search five 'kitten' photos\n",
    "api.search('grizzly bear', page=1, results_per_page=150)\n",
    "# Get photo entries\n",
    "photos = api.get_entries()\n"
   ]
  },
  {
   "attachments": {},
   "cell_type": "markdown",
   "metadata": {},
   "source": []
  },
  {
   "cell_type": "code",
   "execution_count": 11,
   "metadata": {},
   "outputs": [
    {
     "name": "stdout",
     "output_type": "stream",
     "text": [
      "https://images.pexels.com/photos/158109/kodiak-brown-bear-adult-portrait-wildlife-158109.jpeg\n"
     ]
    },
    {
     "data": {
      "image/png": "[encoded data removed]",
      "text/plain": [
       "<PIL.Image.Image image mode=RGB size=128x85>"
      ]
     },
     "execution_count": 11,
     "metadata": {},
     "output_type": "execute_result"
    }
   ],
   "source": [
    "urls = []\n",
    "for photo in photos:\n",
    "    urls.append(photo.original)\n",
    "# 下载这些灰熊照片\n",
    "print(urls[0])\n",
    "dest = 'images/grizzly.jpg'\n",
    "download_url(urls[0], dest)\n",
    "im = Image.open(dest)\n",
    "im.to_thumb(128, 128)"
   ]
  },
  {
   "attachments": {},
   "cell_type": "markdown",
   "metadata": {},
   "source": [
    "\n",
    "这似乎效果很好，所以让我们使用fastai的download_images来下载我们每个搜索词的所有URL。我们将把每个放在一个单独的文件夹中："
   ]
  },
  {
   "cell_type": "code",
   "execution_count": null,
   "metadata": {},
   "outputs": [],
   "source": [
    "bear_types = 'grizzly', 'black', 'teddy'\n",
    "path = Path('bears')\n",
    "if not path.exists():\n",
    "    path.mkdir() \n",
    "    for o in bear_types:\n",
    "        dest = (path/o)\n",
    "        dest.mkdir(exist_ok=True)\n",
    "        results = api.search(f'{o} bear', page=10, results_per_page=50)\n",
    "         \n",
    "        photos = api.get_entries()"
   ]
  }
 ],
 "metadata": {
  "kernelspec": {
   "display_name": "Python 3",
   "language": "python",
   "name": "python3"
  },
  "language_info": {
   "codemirror_mode": {
    "name": "ipython",
    "version": 3
   },
   "file_extension": ".py",
   "mimetype": "text/x-python",
   "name": "python",
   "nbconvert_exporter": "python",
   "pygments_lexer": "ipython3",
   "version": "3.8.10"
  },
  "orig_nbformat": 4
 },
 "nbformat": 4,
 "nbformat_minor": 2
}
