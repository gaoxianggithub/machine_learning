{
 "cells": [
  {
   "cell_type": "code",
   "execution_count": 1,
   "metadata": {},
   "outputs": [],
   "source": [
    "#hide\n",
    "! [ -e /content ] && pip install -Uqq fastbook\n",
    "import fastbook\n",
    "fastbook.setup_book()\n",
    "#hide\n",
    "from fastbook import *\n",
    "from fastai.vision.widgets import *"
   ]
  },
  {
   "attachments": {},
   "cell_type": "markdown",
   "metadata": {},
   "source": [
    "\n",
    "# 从模型到生产\n",
    "\n",
    "我们在<<chapter_intro>>中看到的六行代码只是使用深度学习在实践中的一个小部分。在本章中，我们将使用一个计算机视觉的例子来展示创建深度学习应用的端到端过程。具体来说，我们将构建一个熊分类器！在这个过程中，我们将讨论深度学习的能力和限制，探索如何创建数据集，讨论在实践中使用深度学习时可能遇到的问题等等。许多关键点同样适用于其他深度学习问题，比如在<<chapter_intro>>中介绍的问题。如果你解决一个在关键方面类似于我们示例问题的问题，我们预计你可以用很少的代码迅速获得出色的结果。\n",
    "\n",
    "让我们从如何定义你的问题开始。"
   ]
  }
 ],
 "metadata": {
  "kernelspec": {
   "display_name": "Python 3",
   "language": "python",
   "name": "python3"
  },
  "language_info": {
   "codemirror_mode": {
    "name": "ipython",
    "version": 3
   },
   "file_extension": ".py",
   "mimetype": "text/x-python",
   "name": "python",
   "nbconvert_exporter": "python",
   "pygments_lexer": "ipython3",
   "version": "3.8.10"
  },
  "orig_nbformat": 4
 },
 "nbformat": 4,
 "nbformat_minor": 2
}
