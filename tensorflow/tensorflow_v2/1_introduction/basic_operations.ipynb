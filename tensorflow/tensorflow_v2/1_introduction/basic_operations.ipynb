{
 "cells": [
  {
   "attachments": {},
   "cell_type": "markdown",
   "metadata": {},
   "source": [
    "### 基本操作\n",
    "基于TensorFlow.v2的基本操作\n",
    "> 作者: Aymeric Damien\n",
    "https://github.com/aymericdamien/TensorFlow-Examples/"
   ]
  }
 ],
 "metadata": {
  "language_info": {
   "name": "python"
  },
  "orig_nbformat": 4
 },
 "nbformat": 4,
 "nbformat_minor": 2
}
