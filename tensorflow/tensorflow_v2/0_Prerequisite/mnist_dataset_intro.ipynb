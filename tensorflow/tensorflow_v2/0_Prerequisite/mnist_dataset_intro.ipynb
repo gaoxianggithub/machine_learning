{
 "cells": [
  {
   "attachments": {},
   "cell_type": "markdown",
   "metadata": {},
   "source": [
    "# 介绍MNIST数据集\n",
    "\n",
    "大多数示例都使用手写数字的MNIST数据集。该数据集包含60000个用于训练的示例和10000个用于测试的示例。这些数字已经经过尺寸归一化，并在固定大小的图像（28x28像素）中居中，值介于0到1之间。为了简化，每个图像已经展开并转换为784个特征的1-D numpy数组（28 * 28）。\n",
    "\n",
    "## 概览\n",
    "\n",
    "![MNIST数字](http://neuralnetworksanddeeplearning.com/images/mnist_100_digits.png)\n",
    "\n",
    "## 用法\n",
    "在我们的示例中，我们使用TensorFlow [input_data.py](https://github.com/tensorflow/tensorflow/blob/r0.7/tensorflow/examples/tutorials/mnist/input_data.py)脚本来加载该数据集。\n",
    "它非常有用，可以管理我们的数据，并处理：\n",
    "\n",
    "- 数据集下载\n",
    "\n",
    "- 将整个数据集加载到numpy数组中："
   ]
  },
  {
   "cell_type": "code",
   "execution_count": null,
   "metadata": {},
   "outputs": [],
   "source": [
    "MNIST Dataset Introduction\n",
    "Most examples are using MNIST dataset of handwritten digits. The dataset contains 60,000 examples for training and 10,000 examples for testing. The digits have been size-normalized and centered in a fixed-size image (28x28 pixels) with values from 0 to 1. For simplicity, each image has been flatten and converted to a 1-D numpy array of 784 features (28*28).\n",
    "\n",
    "Overview\n",
    "MNIST Digits\n",
    "\n",
    "Usage\n",
    "In our examples, we are using TensorFlow input_data.py script to load that dataset. It is quite useful for managing our data, and handle:\n",
    "\n",
    "Dataset downloading\n",
    "\n",
    "Loading the entire dataset into numpy array:\n",
    "\n",
    "# 导入MNIST包\n",
    "from tensorflow.examples.tutorials.mnist import input_data\n",
    "mnist = input_data.read_data_sets(\"/tmp/data/\", one_hot=True)\n",
    "\n",
    "# 加载数据\n",
    "X_train = mnist.train.images\n",
    "Y_train = mnist.train.labels\n",
    "X_test = mnist.test.images\n",
    "Y_test = mnist.test.labels"
   ]
  },
  {
   "attachments": {},
   "cell_type": "markdown",
   "metadata": {},
   "source": [
    "一个next_batch函数，它可以遍历整个数据集并只返回数据集样本的所需部分(为了节省内存并避免加载整个数据集)。"
   ]
  },
  {
   "cell_type": "code",
   "execution_count": null,
   "metadata": {},
   "outputs": [],
   "source": [
    "# 获取下一批64个图像数组和标签\n",
    "batch_X, batch_Y = mnist.train.next_batch(64)"
   ]
  }
 ],
 "metadata": {
  "kernelspec": {
   "display_name": "machine_learning",
   "language": "python",
   "name": "python3"
  },
  "language_info": {
   "codemirror_mode": {
    "name": "ipython",
    "version": 3
   },
   "file_extension": ".py",
   "mimetype": "text/x-python",
   "name": "python",
   "nbconvert_exporter": "python",
   "pygments_lexer": "ipython3",
   "version": "3.10.10"
  },
  "orig_nbformat": 4
 },
 "nbformat": 4,
 "nbformat_minor": 2
}
