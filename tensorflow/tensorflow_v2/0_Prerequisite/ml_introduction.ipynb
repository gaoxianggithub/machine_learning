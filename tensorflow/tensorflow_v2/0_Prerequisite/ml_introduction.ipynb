{
 "cells": [
  {
   "cell_type": "markdown",
   "metadata": {},
   "source": [
    "# 机器学习\n",
    "\n",
    "在开始浏览示例之前，了解机器学习可能很有用，因为TensorFlow主要用于机器学习任务（特别是神经网络）。下面是一些有用的链接，可以为此TensorFlow教程提供所需的基本知识。\n",
    "\n",
    "## 机器学习\n",
    "\n",
    "- [机器学习理论及其应用介绍：带有示例的可视化教程](https://www.toptal.com/machine-learning/machine-learning-theory-an-introductory-primer)\n",
    "- [机器学习入门指南](https://monkeylearn.com/blog/gentle-guide-to-machine-learning/)\n",
    "- [机器学习可视化介绍](http://www.r2d3.us/visual-intro-to-machine-learning-part-1/)\n",
    "- [机器学习入门](http://alex.smola.org/drafts/thebook.pdf)\n",
    "\n",
    "## 深度学习和神经网络\n",
    "\n",
    "- [神经网络介绍](http://www.cs.stir.ac.uk/~lss/NNIntro/InvSlides.html)\n",
    "- [深度学习与图像识别入门](https://medium.com/@ageitgey/machine-learning-is-fun-part-3-deep-learning-and-convolutional-neural-networks-f40359318721)\n",
    "- [神经网络与深度学习](http://neuralnetworksanddeeplearning.com/index.html)\n",
    "\n"
   ]
  },
  {
   "cell_type": "markdown",
   "metadata": {},
   "source": []
  }
 ],
 "metadata": {
  "language_info": {
   "name": "python"
  },
  "orig_nbformat": 4
 },
 "nbformat": 4,
 "nbformat_minor": 2
}
