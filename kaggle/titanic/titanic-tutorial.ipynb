{
 "cells": [
  {
   "cell_type": "markdown",
   "metadata": {
    "lang": "en"
   },
   "source": [
    "Logging into Kaggle for the first time can be daunting. Our competitions often have large cash prizes, public leaderboards, and involve complex data. Nevertheless, we really think all data scientists can rapidly learn from machine learning competitions and meaningfully contribute to our community. To give you a clear understanding of how our platform works and a mental model of the type of learning you could do on Kaggle, we've created a Getting Started tutorial for the Titanic competition. It walks you through the initial steps required to get your first decent submission on the leaderboard. By the end of the tutorial, you'll also have a solid understanding of how to use Kaggle's online coding environment, where you'll have trained your own machine learning model.\n",
    "\n",
    "So if this is your first time entering a Kaggle competition, regardless of whether you:\n",
    "- have experience with handling large datasets,\n",
    "- haven't done much coding,\n",
    "- are newer to data science, or\n",
    "- are relatively experienced (but are just unfamiliar with Kaggle's platform),\n",
    "\n",
    "you're in the right place! \n",
    "\n",
    "# Part 1: Get started\n",
    "\n",
    "In this section, you'll learn more about the competition and make your first submission. \n",
    "\n",
    "## Join the competition!\n",
    "\n",
    "The first thing to do is to join the competition!  Open a new window with **[the competition page](https://www.kaggle.com/c/titanic)**, and click on the **\"Join Competition\"** button, if you haven't already.  (_If you see a \"Submit Predictions\" button instead of a \"Join Competition\" button, you have already joined the competition, and don't need to do so again._)\n",
    "\n",
    "![](https://i.imgur.com/07cskyU.png)\n",
    "\n",
    "This takes you to the rules acceptance page.  You must accept the competition rules in order to participate.  These rules govern how many submissions you can make per day, the maximum team size, and other competition-specific details.   Then, click on **\"I Understand and Accept\"** to indicate that you will abide by the competition rules.\n",
    "\n",
    "## The challenge\n",
    "\n",
    "The competition is simple: we want you to use the Titanic passenger data (name, age, price of ticket, etc) to try to predict who will survive and who will die.\n",
    "\n",
    "## The data\n",
    "\n",
    "To take a look at the competition data, click on the **<a href=\"https://www.kaggle.com/c/titanic/data\" target=\"_blank\" rel=\"noopener noreferrer\"><b>Data tab</b></a>** at the top of the competition page.  Then, scroll down to find the list of files.  \n",
    "There are three files in the data: (1) **train.csv**, (2) **test.csv**, and (3) **gender_submission.csv**.\n",
    "\n",
    "### (1) train.csv\n",
    "\n",
    "**train.csv** contains the details of a subset of the passengers on board (891 passengers, to be exact -- where each passenger gets a different row in the table).  To investigate this data, click on the name of the file on the left of the screen.  Once you've done this, you can view all of the data in the window.  \n",
    "\n",
    "![](https://i.imgur.com/cYsdt0n.png)\n",
    "\n",
    "The values in the second column (**\"Survived\"**) can be used to determine whether each passenger survived or not: \n",
    "- if it's a \"1\", the passenger survived.\n",
    "- if it's a \"0\", the passenger died.\n",
    "\n",
    "For instance, the first passenger listed in **train.csv** is Mr. Owen Harris Braund.  He was 22 years old when he died on the Titanic.\n",
    "\n",
    "### (2) test.csv\n",
    "\n",
    "Using the patterns you find in **train.csv**, you have to predict whether the other 418 passengers on board (in **test.csv**) survived.  \n",
    "\n",
    "Click on **test.csv** (on the left of the screen) to examine its contents.  Note that **test.csv** does not have a **\"Survived\"** column - this information is hidden from you, and how well you do at predicting these hidden values will determine how highly you score in the competition! \n",
    "\n",
    "### (3) gender_submission.csv\n",
    "\n",
    "The **gender_submission.csv** file is provided as an example that shows how you should structure your predictions.  It predicts that all female passengers survived, and all male passengers died.  Your hypotheses regarding survival will probably be different, which will lead to a different submission file.  But, just like this file, your submission should have:\n",
    "- a **\"PassengerId\"** column containing the IDs of each passenger from **test.csv**.\n",
    "- a **\"Survived\"** column (that you will create!) with a \"1\" for the rows where you think the passenger survived, and a \"0\" where you predict that the passenger died."
   ]
  },
  {
   "cell_type": "markdown",
   "metadata": {
    "lang": "zh"
   },
   "source": [
    "第一次登录 Kaggle 可能会让人望而生畏。我们的比赛经常有丰厚的奖金、公开的排行榜，并且涉及复杂的数据。尽管如此，我们确实认为所有数据科学家都可以从机器学习竞赛中快速学习并为我们的社区做出有意义的贡献。为了让您清楚地了解我们的平台是如何工作的，以及您可以在 Kaggle 上进行的学习类型的心智模型，我们为泰坦尼克号竞赛创建了一个入门教程。它会引导您完成在排行榜上获得第一个不错的提交所需的初始步骤。在本教程结束时，您还将对如何使用 Kaggle 的在线编码环境有深入的了解，您将在其中训练自己的机器学习模型。\n",
    "\n",
    "因此，如果这是你第一次参加 Kaggle 比赛，无论你是否：\n",
    "- 有处理大型数据集的经验，\n",
    "- 没有做太多编码，\n",
    "- 对数据科学较新，或者\n",
    "- 相对有经验（但不熟悉 Kaggle 的平台），\n",
    "\n",
    "你来对地方了！\n",
    "\n",
    "# 第 1 部分：开始\n",
    "\n",
    "在本节中，您将了解有关比赛的更多信息并进行首次提交。\n",
    "\n",
    "## 参加比赛！\n",
    "\n",
    "首先要做的就是参加比赛！使用**[竞赛页面](https://www.kaggle.com/c/titanic)**打开一个新窗口，然后点击**“加入竞赛”**按钮，如果你还没有的话。 （_如果您看到“提交预测”按钮而不是“参加比赛”按钮，则您已经参加了比赛，无需再次参加。_）\n",
    "\n",
    "![](https://i.imgur.com/07cskyU.png)\n",
    "\n",
    "这会将您带到规则接受页面。您必须接受比赛规则才能参加。这些规则规定了您每天可以提交多少次、最大团队规模以及其他特定于比赛的详细信息。然后，点击**“我理解并接受”**表示您将遵守比赛规则。\n",
    "\n",
    "## 挑战\n",
    "\n",
    "比赛很简单：我们希望您使用泰坦尼克号乘客数据（姓名、年龄、票价等）来尝试预测谁会生还谁会死。\n",
    "\n",
    "＃＃ 数据\n",
    "\n",
    "要查看比赛数据，请单击比赛页面顶部的 **<a href=\"https://www.kaggle.com/c/titanic/data\" target=\"_blank\" rel=\"noopener noreferrer\"><b>Data tab</b></a>**。然后，向下滚动以找到文件列表。\n",
    "数据中有三个文件：(1) **train.csv**, (2) **test.csv**, (3) **gender_submission.csv<**>。\n",
    "\n",
    "### (1) 火车.csv**train.csv**包含机上乘客子集的详细信息（准确地说是 891 名乘客——每个乘客在表格中占据不同的行）。要调查此数据，请单击屏幕左侧的文件名。完成此操作后，您可以在窗口中查看所有数据。\n",
    "\n",
    "![](https://i.imgur.com/cYsdt0n.png)\n",
    "\n",
    "第二列中的值 (**\"Survived\"**) 可用于确定每个乘客是否幸存：\n",
    "- 如果是“1”，则乘客幸免于难。\n",
    "- 如果是“0”，则乘客死亡。\n",
    "\n",
    "例如，**train.csv**中列出的第一位乘客是 Owen Harris Braund 先生。他死于泰坦尼克号时年仅 22 岁。\n",
    "\n",
    "### (2) 测试.csv\n",
    "\n",
    "使用您在**train.csv**中找到的模式，您必须预测机上其他 418 名乘客（在**test.csv**中）是否幸存。\n",
    "\n",
    "单击**test.csv**（在屏幕左侧）以检查其内容。请注意，**test.csv**没有**“Survived”**列 - 此信息对您是隐藏的，您预测这些隐藏值的能力将决定如何你在比赛中得分很高！\n",
    "\n",
    "### (3) 性别<_>submission.csv\n",
    "\n",
    "**性别<_>submission.csv**文件作为示例提供，说明您应如何构建预测。它预测所有女乘客都生还，所有男乘客都死了。您关于生存的假设可能会有所不同，这将导致不同的提交文件。但是，就像这个文件一样，您提交的内容应该有：\n",
    "-**\"PassengerId\"**列包含来自**test.csv**的每位乘客的 ID。\n",
    "- <**>“幸存”** 列（您将创建！），其中“1”代表您认为乘客幸存的行，“0”代表您预测乘客死亡."
   ]
  },
  {
   "cell_type": "markdown",
   "metadata": {
    "lang": "en"
   },
   "source": [
    "# Part 2: Your coding environment\n",
    "\n",
    "In this section, you'll train your own machine learning model to improve your predictions.  _If you've never written code before or don't have any experience with machine learning, don't worry!  We don't assume any prior experience in this tutorial._\n",
    "\n",
    "## The Notebook\n",
    "\n",
    "The first thing to do is to create a Kaggle Notebook where you'll store all of your code.  You can use Kaggle Notebooks to getting up and running with writing code quickly, and without having to install anything on your computer.  (_If you are interested in deep learning, we also offer free GPU access!_) \n",
    "\n",
    "Begin by clicking on the **<a href=\"https://www.kaggle.com/c/titanic/kernels\" target=\"_blank\">Code tab</a>** on the competition page.  Then, click on **\"New Notebook\"**.\n",
    "\n",
    "![](https://i.imgur.com/v2i82Xd.png)\n",
    "\n",
    "Your notebook will take a few seconds to load.  In the top left corner, you can see the name of your notebook -- something like **\"kernel2daed3cd79\"**.\n",
    "\n",
    "![](https://i.imgur.com/64ZFT1L.png)\n",
    "\n",
    "You can edit the name by clicking on it.  Change it to something more descriptive, like **\"Getting Started with Titanic\"**.  \n",
    "\n",
    "![](https://i.imgur.com/uwyvzXq.png)\n",
    "\n",
    "## Your first lines of code\n",
    "\n",
    "When you start a new notebook, it has two gray boxes for storing code.  We refer to these gray boxes as \"code cells\".\n",
    "\n",
    "![](https://i.imgur.com/q9mwkZM.png)\n",
    "\n",
    "The first code cell already has some code in it.  To run this code, put your cursor in the code cell.  (_If your cursor is in the right place, you'll notice a blue vertical line to the left of the gray box._)  Then, either hit the play button (which appears to the left of the blue line), or hit **[Shift] + [Enter]** on your keyboard.\n",
    "\n",
    "If the code runs successfully, three lines of output are returned.  Below, you can see the same code that you just ran, along with the output that you should see in your notebook."
   ]
  },
  {
   "cell_type": "markdown",
   "metadata": {
    "lang": "zh"
   },
   "source": [
    "# 第 2 部分：您的编码环境\n",
    "\n",
    "在本节中，您将训练自己的机器学习模型来改进您的预测。 _如果您以前从未编写过代码或没有任何机器学习经验，请不要担心！在本教程中，我们不假设任何先前的经验。_\n",
    "\n",
    "＃＃ 笔记本\n",
    "\n",
    "首先要做的是创建一个 Kaggle Notebook，您将在其中存储所有代码。您可以使用 Kaggle Notebooks 快速启动和运行代码，而无需在您的计算机上安装任何东西。 （_如果您对深度学习感兴趣，我们还提供免费的 GPU 访问权限！_）\n",
    "\n",
    "首先单击竞赛页面上的 **<a href=\"https://www.kaggle.com/c/titanic/kernels\" target=\"_blank\">Code tab</a>**。然后，单击 **“新建笔记本”**。\n",
    "\n",
    "![](https://i.imgur.com/v2i82Xd.png)\n",
    "\n",
    "您的笔记本将需要几秒钟来加载。在左上角，您可以看到笔记本的名称——类似于 **\"kernel2daed3cd79\"**。\n",
    "\n",
    "![](https://i.imgur.com/64ZFT1L.png)\n",
    "\n",
    "您可以通过单击名称来编辑名称。将其更改为更具描述性的内容，例如 **“泰坦尼克号入门”**。\n",
    "\n",
    "![](https://i.imgur.com/uwyvzXq.png)\n",
    "\n",
    "## 你的第一行代码\n",
    "\n",
    "当你开始一个新的笔记本时，它有两个灰色的盒子用于存储代码。我们将这些灰色框称为“代码单元”。\n",
    "\n",
    "![](https://i.imgur.com/q9mwkZM.png)\n",
    "\n",
    "第一个代码单元中已经有一些代码。要运行此代码，请将光标放在代码单元格中。 （_如果光标在正确的位置，您会注意到灰色框左侧有一条蓝色竖线。_）然后，点击播放按钮（出现在蓝线左侧)，或按键盘上的 **[Shift] + [Enter]**。\n",
    "\n",
    "如果代码运行成功，将返回三行输出。下面，您可以看到您刚刚运行的相同代码，以及您应该在笔记本中看到的输出。"
   ]
  },
  {
   "cell_type": "code",
   "execution_count": 1,
   "metadata": {
    "_kg_hide-input": false
   },
   "outputs": [],
   "source": [
    "# This Python 3 environment comes with many helpful analytics libraries installed\n",
    "# It is defined by the kaggle/python docker image: https://github.com/kaggle/docker-python\n",
    "# For example, here's several helpful packages to load in \n",
    "\n",
    "import numpy as np # linear algebra\n",
    "import pandas as pd # data processing, CSV file I/O (e.g. pd.read_csv)\n",
    "\n",
    "# Input data files are available in the \"../input/\" directory.\n",
    "# For example, running this (by clicking run or pressing Shift+Enter) will list all files under the input directory\n",
    "\n",
    "import os\n",
    "for dirname, _, filenames in os.walk('/kaggle/input'):\n",
    "    for filename in filenames:\n",
    "        print(os.path.join(dirname, filename))\n",
    "\n",
    "# Any results you write to the current directory are saved as output."
   ]
  },
  {
   "cell_type": "markdown",
   "metadata": {
    "lang": "en"
   },
   "source": [
    "This shows us where the competition data is stored, so that we can load the files into the notebook.  We'll do that next.\n",
    "\n",
    "## Load the data\n",
    "\n",
    "The second code cell in your notebook now appears below the three lines of output with the file locations.\n",
    "\n",
    "![](https://i.imgur.com/OQBax9n.png)\n",
    "\n",
    "Type the two lines of code below into your second code cell.  Then, once you're done, either click on the blue play button, or hit **[Shift] + [Enter]**.  "
   ]
  },
  {
   "cell_type": "markdown",
   "metadata": {
    "lang": "zh"
   },
   "source": [
    "这向我们展示了比赛数据的存储位置，以便我们可以将文件加载到笔记本中。我们接下来会这样做。\n",
    "\n",
    "## 加载数据\n",
    "\n",
    "笔记本中的第二个代码单元现在显示在带有文件位置的三行输出下方。\n",
    "\n",
    "![](https://i.imgur.com/OQBax9n.png)\n",
    "\n",
    "在您的第二个代码单元格中键入下面的两行代码。然后，完成后，单击蓝色播放按钮，或按 **[Shift] + [Enter]**。"
   ]
  },
  {
   "cell_type": "markdown",
   "metadata": {
    "lang": "zh"
   },
   "source": [
    "这向我们展示了比赛数据的存储位置，以便我们可以将文件加载到笔记本中。我们接下来会这样做。\n",
    "\n",
    "## 加载数据\n",
    "\n",
    "笔记本中的第二个代码单元现在显示在带有文件位置的三行输出下方。\n",
    "\n",
    "![](https://i.imgur.com/OQBax9n.png)\n",
    "\n",
    "在您的第二个代码单元格中键入下面的两行代码。然后，完成后，单击蓝色播放按钮，或按 **[Shift] + [Enter]**。"
   ]
  },
  {
   "cell_type": "code",
   "execution_count": 2,
   "metadata": {},
   "outputs": [
    {
     "ename": "FileNotFoundError",
     "evalue": "[Errno 2] No such file or directory: '/kaggle/input/titanic/train.csv'",
     "output_type": "error",
     "traceback": [
      "\u001b[0;31m---------------------------------------------------------------------------\u001b[0m",
      "\u001b[0;31mFileNotFoundError\u001b[0m                         Traceback (most recent call last)",
      "Cell \u001b[0;32mIn[2], line 1\u001b[0m\n\u001b[0;32m----> 1\u001b[0m train_data \u001b[38;5;241m=\u001b[39m \u001b[43mpd\u001b[49m\u001b[38;5;241;43m.\u001b[39;49m\u001b[43mread_csv\u001b[49m\u001b[43m(\u001b[49m\u001b[38;5;124;43m\"\u001b[39;49m\u001b[38;5;124;43m/kaggle/input/titanic/train.csv\u001b[39;49m\u001b[38;5;124;43m\"\u001b[39;49m\u001b[43m)\u001b[49m\n\u001b[1;32m      2\u001b[0m train_data\u001b[38;5;241m.\u001b[39mhead()\n",
      "File \u001b[0;32m~/miniconda3/envs/fast/lib/python3.9/site-packages/pandas/io/parsers/readers.py:912\u001b[0m, in \u001b[0;36mread_csv\u001b[0;34m(filepath_or_buffer, sep, delimiter, header, names, index_col, usecols, dtype, engine, converters, true_values, false_values, skipinitialspace, skiprows, skipfooter, nrows, na_values, keep_default_na, na_filter, verbose, skip_blank_lines, parse_dates, infer_datetime_format, keep_date_col, date_parser, date_format, dayfirst, cache_dates, iterator, chunksize, compression, thousands, decimal, lineterminator, quotechar, quoting, doublequote, escapechar, comment, encoding, encoding_errors, dialect, on_bad_lines, delim_whitespace, low_memory, memory_map, float_precision, storage_options, dtype_backend)\u001b[0m\n\u001b[1;32m    899\u001b[0m kwds_defaults \u001b[38;5;241m=\u001b[39m _refine_defaults_read(\n\u001b[1;32m    900\u001b[0m     dialect,\n\u001b[1;32m    901\u001b[0m     delimiter,\n\u001b[0;32m   (...)\u001b[0m\n\u001b[1;32m    908\u001b[0m     dtype_backend\u001b[38;5;241m=\u001b[39mdtype_backend,\n\u001b[1;32m    909\u001b[0m )\n\u001b[1;32m    910\u001b[0m kwds\u001b[38;5;241m.\u001b[39mupdate(kwds_defaults)\n\u001b[0;32m--> 912\u001b[0m \u001b[38;5;28;01mreturn\u001b[39;00m \u001b[43m_read\u001b[49m\u001b[43m(\u001b[49m\u001b[43mfilepath_or_buffer\u001b[49m\u001b[43m,\u001b[49m\u001b[43m \u001b[49m\u001b[43mkwds\u001b[49m\u001b[43m)\u001b[49m\n",
      "File \u001b[0;32m~/miniconda3/envs/fast/lib/python3.9/site-packages/pandas/io/parsers/readers.py:577\u001b[0m, in \u001b[0;36m_read\u001b[0;34m(filepath_or_buffer, kwds)\u001b[0m\n\u001b[1;32m    574\u001b[0m _validate_names(kwds\u001b[38;5;241m.\u001b[39mget(\u001b[38;5;124m\"\u001b[39m\u001b[38;5;124mnames\u001b[39m\u001b[38;5;124m\"\u001b[39m, \u001b[38;5;28;01mNone\u001b[39;00m))\n\u001b[1;32m    576\u001b[0m \u001b[38;5;66;03m# Create the parser.\u001b[39;00m\n\u001b[0;32m--> 577\u001b[0m parser \u001b[38;5;241m=\u001b[39m \u001b[43mTextFileReader\u001b[49m\u001b[43m(\u001b[49m\u001b[43mfilepath_or_buffer\u001b[49m\u001b[43m,\u001b[49m\u001b[43m \u001b[49m\u001b[38;5;241;43m*\u001b[39;49m\u001b[38;5;241;43m*\u001b[39;49m\u001b[43mkwds\u001b[49m\u001b[43m)\u001b[49m\n\u001b[1;32m    579\u001b[0m \u001b[38;5;28;01mif\u001b[39;00m chunksize \u001b[38;5;129;01mor\u001b[39;00m iterator:\n\u001b[1;32m    580\u001b[0m     \u001b[38;5;28;01mreturn\u001b[39;00m parser\n",
      "File \u001b[0;32m~/miniconda3/envs/fast/lib/python3.9/site-packages/pandas/io/parsers/readers.py:1407\u001b[0m, in \u001b[0;36mTextFileReader.__init__\u001b[0;34m(self, f, engine, **kwds)\u001b[0m\n\u001b[1;32m   1404\u001b[0m     \u001b[38;5;28mself\u001b[39m\u001b[38;5;241m.\u001b[39moptions[\u001b[38;5;124m\"\u001b[39m\u001b[38;5;124mhas_index_names\u001b[39m\u001b[38;5;124m\"\u001b[39m] \u001b[38;5;241m=\u001b[39m kwds[\u001b[38;5;124m\"\u001b[39m\u001b[38;5;124mhas_index_names\u001b[39m\u001b[38;5;124m\"\u001b[39m]\n\u001b[1;32m   1406\u001b[0m \u001b[38;5;28mself\u001b[39m\u001b[38;5;241m.\u001b[39mhandles: IOHandles \u001b[38;5;241m|\u001b[39m \u001b[38;5;28;01mNone\u001b[39;00m \u001b[38;5;241m=\u001b[39m \u001b[38;5;28;01mNone\u001b[39;00m\n\u001b[0;32m-> 1407\u001b[0m \u001b[38;5;28mself\u001b[39m\u001b[38;5;241m.\u001b[39m_engine \u001b[38;5;241m=\u001b[39m \u001b[38;5;28;43mself\u001b[39;49m\u001b[38;5;241;43m.\u001b[39;49m\u001b[43m_make_engine\u001b[49m\u001b[43m(\u001b[49m\u001b[43mf\u001b[49m\u001b[43m,\u001b[49m\u001b[43m \u001b[49m\u001b[38;5;28;43mself\u001b[39;49m\u001b[38;5;241;43m.\u001b[39;49m\u001b[43mengine\u001b[49m\u001b[43m)\u001b[49m\n",
      "File \u001b[0;32m~/miniconda3/envs/fast/lib/python3.9/site-packages/pandas/io/parsers/readers.py:1661\u001b[0m, in \u001b[0;36mTextFileReader._make_engine\u001b[0;34m(self, f, engine)\u001b[0m\n\u001b[1;32m   1659\u001b[0m     \u001b[38;5;28;01mif\u001b[39;00m \u001b[38;5;124m\"\u001b[39m\u001b[38;5;124mb\u001b[39m\u001b[38;5;124m\"\u001b[39m \u001b[38;5;129;01mnot\u001b[39;00m \u001b[38;5;129;01min\u001b[39;00m mode:\n\u001b[1;32m   1660\u001b[0m         mode \u001b[38;5;241m+\u001b[39m\u001b[38;5;241m=\u001b[39m \u001b[38;5;124m\"\u001b[39m\u001b[38;5;124mb\u001b[39m\u001b[38;5;124m\"\u001b[39m\n\u001b[0;32m-> 1661\u001b[0m \u001b[38;5;28mself\u001b[39m\u001b[38;5;241m.\u001b[39mhandles \u001b[38;5;241m=\u001b[39m \u001b[43mget_handle\u001b[49m\u001b[43m(\u001b[49m\n\u001b[1;32m   1662\u001b[0m \u001b[43m    \u001b[49m\u001b[43mf\u001b[49m\u001b[43m,\u001b[49m\n\u001b[1;32m   1663\u001b[0m \u001b[43m    \u001b[49m\u001b[43mmode\u001b[49m\u001b[43m,\u001b[49m\n\u001b[1;32m   1664\u001b[0m \u001b[43m    \u001b[49m\u001b[43mencoding\u001b[49m\u001b[38;5;241;43m=\u001b[39;49m\u001b[38;5;28;43mself\u001b[39;49m\u001b[38;5;241;43m.\u001b[39;49m\u001b[43moptions\u001b[49m\u001b[38;5;241;43m.\u001b[39;49m\u001b[43mget\u001b[49m\u001b[43m(\u001b[49m\u001b[38;5;124;43m\"\u001b[39;49m\u001b[38;5;124;43mencoding\u001b[39;49m\u001b[38;5;124;43m\"\u001b[39;49m\u001b[43m,\u001b[49m\u001b[43m \u001b[49m\u001b[38;5;28;43;01mNone\u001b[39;49;00m\u001b[43m)\u001b[49m\u001b[43m,\u001b[49m\n\u001b[1;32m   1665\u001b[0m \u001b[43m    \u001b[49m\u001b[43mcompression\u001b[49m\u001b[38;5;241;43m=\u001b[39;49m\u001b[38;5;28;43mself\u001b[39;49m\u001b[38;5;241;43m.\u001b[39;49m\u001b[43moptions\u001b[49m\u001b[38;5;241;43m.\u001b[39;49m\u001b[43mget\u001b[49m\u001b[43m(\u001b[49m\u001b[38;5;124;43m\"\u001b[39;49m\u001b[38;5;124;43mcompression\u001b[39;49m\u001b[38;5;124;43m\"\u001b[39;49m\u001b[43m,\u001b[49m\u001b[43m \u001b[49m\u001b[38;5;28;43;01mNone\u001b[39;49;00m\u001b[43m)\u001b[49m\u001b[43m,\u001b[49m\n\u001b[1;32m   1666\u001b[0m \u001b[43m    \u001b[49m\u001b[43mmemory_map\u001b[49m\u001b[38;5;241;43m=\u001b[39;49m\u001b[38;5;28;43mself\u001b[39;49m\u001b[38;5;241;43m.\u001b[39;49m\u001b[43moptions\u001b[49m\u001b[38;5;241;43m.\u001b[39;49m\u001b[43mget\u001b[49m\u001b[43m(\u001b[49m\u001b[38;5;124;43m\"\u001b[39;49m\u001b[38;5;124;43mmemory_map\u001b[39;49m\u001b[38;5;124;43m\"\u001b[39;49m\u001b[43m,\u001b[49m\u001b[43m \u001b[49m\u001b[38;5;28;43;01mFalse\u001b[39;49;00m\u001b[43m)\u001b[49m\u001b[43m,\u001b[49m\n\u001b[1;32m   1667\u001b[0m \u001b[43m    \u001b[49m\u001b[43mis_text\u001b[49m\u001b[38;5;241;43m=\u001b[39;49m\u001b[43mis_text\u001b[49m\u001b[43m,\u001b[49m\n\u001b[1;32m   1668\u001b[0m \u001b[43m    \u001b[49m\u001b[43merrors\u001b[49m\u001b[38;5;241;43m=\u001b[39;49m\u001b[38;5;28;43mself\u001b[39;49m\u001b[38;5;241;43m.\u001b[39;49m\u001b[43moptions\u001b[49m\u001b[38;5;241;43m.\u001b[39;49m\u001b[43mget\u001b[49m\u001b[43m(\u001b[49m\u001b[38;5;124;43m\"\u001b[39;49m\u001b[38;5;124;43mencoding_errors\u001b[39;49m\u001b[38;5;124;43m\"\u001b[39;49m\u001b[43m,\u001b[49m\u001b[43m \u001b[49m\u001b[38;5;124;43m\"\u001b[39;49m\u001b[38;5;124;43mstrict\u001b[39;49m\u001b[38;5;124;43m\"\u001b[39;49m\u001b[43m)\u001b[49m\u001b[43m,\u001b[49m\n\u001b[1;32m   1669\u001b[0m \u001b[43m    \u001b[49m\u001b[43mstorage_options\u001b[49m\u001b[38;5;241;43m=\u001b[39;49m\u001b[38;5;28;43mself\u001b[39;49m\u001b[38;5;241;43m.\u001b[39;49m\u001b[43moptions\u001b[49m\u001b[38;5;241;43m.\u001b[39;49m\u001b[43mget\u001b[49m\u001b[43m(\u001b[49m\u001b[38;5;124;43m\"\u001b[39;49m\u001b[38;5;124;43mstorage_options\u001b[39;49m\u001b[38;5;124;43m\"\u001b[39;49m\u001b[43m,\u001b[49m\u001b[43m \u001b[49m\u001b[38;5;28;43;01mNone\u001b[39;49;00m\u001b[43m)\u001b[49m\u001b[43m,\u001b[49m\n\u001b[1;32m   1670\u001b[0m \u001b[43m\u001b[49m\u001b[43m)\u001b[49m\n\u001b[1;32m   1671\u001b[0m \u001b[38;5;28;01massert\u001b[39;00m \u001b[38;5;28mself\u001b[39m\u001b[38;5;241m.\u001b[39mhandles \u001b[38;5;129;01mis\u001b[39;00m \u001b[38;5;129;01mnot\u001b[39;00m \u001b[38;5;28;01mNone\u001b[39;00m\n\u001b[1;32m   1672\u001b[0m f \u001b[38;5;241m=\u001b[39m \u001b[38;5;28mself\u001b[39m\u001b[38;5;241m.\u001b[39mhandles\u001b[38;5;241m.\u001b[39mhandle\n",
      "File \u001b[0;32m~/miniconda3/envs/fast/lib/python3.9/site-packages/pandas/io/common.py:859\u001b[0m, in \u001b[0;36mget_handle\u001b[0;34m(path_or_buf, mode, encoding, compression, memory_map, is_text, errors, storage_options)\u001b[0m\n\u001b[1;32m    854\u001b[0m \u001b[38;5;28;01melif\u001b[39;00m \u001b[38;5;28misinstance\u001b[39m(handle, \u001b[38;5;28mstr\u001b[39m):\n\u001b[1;32m    855\u001b[0m     \u001b[38;5;66;03m# Check whether the filename is to be opened in binary mode.\u001b[39;00m\n\u001b[1;32m    856\u001b[0m     \u001b[38;5;66;03m# Binary mode does not support 'encoding' and 'newline'.\u001b[39;00m\n\u001b[1;32m    857\u001b[0m     \u001b[38;5;28;01mif\u001b[39;00m ioargs\u001b[38;5;241m.\u001b[39mencoding \u001b[38;5;129;01mand\u001b[39;00m \u001b[38;5;124m\"\u001b[39m\u001b[38;5;124mb\u001b[39m\u001b[38;5;124m\"\u001b[39m \u001b[38;5;129;01mnot\u001b[39;00m \u001b[38;5;129;01min\u001b[39;00m ioargs\u001b[38;5;241m.\u001b[39mmode:\n\u001b[1;32m    858\u001b[0m         \u001b[38;5;66;03m# Encoding\u001b[39;00m\n\u001b[0;32m--> 859\u001b[0m         handle \u001b[38;5;241m=\u001b[39m \u001b[38;5;28;43mopen\u001b[39;49m\u001b[43m(\u001b[49m\n\u001b[1;32m    860\u001b[0m \u001b[43m            \u001b[49m\u001b[43mhandle\u001b[49m\u001b[43m,\u001b[49m\n\u001b[1;32m    861\u001b[0m \u001b[43m            \u001b[49m\u001b[43mioargs\u001b[49m\u001b[38;5;241;43m.\u001b[39;49m\u001b[43mmode\u001b[49m\u001b[43m,\u001b[49m\n\u001b[1;32m    862\u001b[0m \u001b[43m            \u001b[49m\u001b[43mencoding\u001b[49m\u001b[38;5;241;43m=\u001b[39;49m\u001b[43mioargs\u001b[49m\u001b[38;5;241;43m.\u001b[39;49m\u001b[43mencoding\u001b[49m\u001b[43m,\u001b[49m\n\u001b[1;32m    863\u001b[0m \u001b[43m            \u001b[49m\u001b[43merrors\u001b[49m\u001b[38;5;241;43m=\u001b[39;49m\u001b[43merrors\u001b[49m\u001b[43m,\u001b[49m\n\u001b[1;32m    864\u001b[0m \u001b[43m            \u001b[49m\u001b[43mnewline\u001b[49m\u001b[38;5;241;43m=\u001b[39;49m\u001b[38;5;124;43m\"\u001b[39;49m\u001b[38;5;124;43m\"\u001b[39;49m\u001b[43m,\u001b[49m\n\u001b[1;32m    865\u001b[0m \u001b[43m        \u001b[49m\u001b[43m)\u001b[49m\n\u001b[1;32m    866\u001b[0m     \u001b[38;5;28;01melse\u001b[39;00m:\n\u001b[1;32m    867\u001b[0m         \u001b[38;5;66;03m# Binary mode\u001b[39;00m\n\u001b[1;32m    868\u001b[0m         handle \u001b[38;5;241m=\u001b[39m \u001b[38;5;28mopen\u001b[39m(handle, ioargs\u001b[38;5;241m.\u001b[39mmode)\n",
      "\u001b[0;31mFileNotFoundError\u001b[0m: [Errno 2] No such file or directory: '/kaggle/input/titanic/train.csv'"
     ]
    }
   ],
   "source": [
    "train_data = pd.read_csv(\"/kaggle/input/titanic/train.csv\")\n",
    "train_data.head()"
   ]
  },
  {
   "cell_type": "markdown",
   "metadata": {
    "lang": "en"
   },
   "source": [
    "Your code should return the output above, which corresponds to the first five rows of the table in **train.csv**.  It's very important that you see this output **in your notebook** before proceeding with the tutorial!\n",
    "> _If your code does not produce this output_, double-check that your code is identical to the two lines above.  And, make sure your cursor is in the code cell before hitting **[Shift] + [Enter]**.\n",
    "\n",
    "The code that you've just written is in the Python programming language. It uses a Python \"module\" called **pandas** (abbreviated as `pd`) to load the table from the **train.csv** file into the notebook. To do this, we needed to plug in the location of the file (which we saw was `/kaggle/input/titanic/train.csv`).  \n",
    "> If you're not already familiar with Python (and pandas), the code shouldn't make sense to you -- but don't worry!  The point of this tutorial is to (quickly!) make your first submission to the competition.  At the end of the tutorial, we suggest resources to continue your learning.\n",
    "\n",
    "At this point, you should have at least three code cells in your notebook.  \n",
    "![](https://i.imgur.com/ReLhYca.png)\n",
    "\n",
    "Copy the code below into the third code cell of your notebook to load the contents of the **test.csv** file.  Don't forget to click on the play button (or hit **[Shift] + [Enter]**)!"
   ]
  },
  {
   "cell_type": "markdown",
   "metadata": {
    "lang": "zh"
   },
   "source": [
    "您的代码应返回上面的输出，它对应于 **train.csv** 中表格的前五行。在继续本教程之前，**在笔记本**中看到此输出非常重要！\n",
    "> _如果您的代码没有产生此输出_，请仔细检查您的代码是否与上面两行相同。并且，在按下 **[Shift] + [Enter]** 之前，请确保您的光标位于代码单元格中。\n",
    "\n",
    "您刚刚编写的代码是使用 Python 编程语言编写的。它使用名为 **pandas**（缩写为 `pd`）的 Python“模块”将表从 **train.csv** 文件加载到笔记本中。为此，我们需要插入文件的位置（我们看到的是“/kaggle/input/titanic/train.csv”）。\n",
    "> 如果您还不熟悉 Python（和 pandas），代码对您来说应该没有意义——但别担心！本教程的重点是（快速！）让你第一次提交给比赛。在本教程结束时，我们会建议资源以继续您的学习。\n",
    "\n",
    "此时，您的笔记本中应该至少有三个代码单元。\n",
    "![](https://i.imgur.com/ReLhYca.png)\n",
    "\n",
    "将下面的代码复制到笔记本的第三个代码单元格中，以加载 **test.csv** 文件的内容。不要忘记点击播放按钮（或点击**[Shift] + [Enter]**）！"
   ]
  },
  {
   "cell_type": "code",
   "execution_count": null,
   "metadata": {},
   "outputs": [],
   "source": [
    "test_data = pd.read_csv(\"/kaggle/input/titanic/test.csv\")\n",
    "test_data.head()"
   ]
  },
  {
   "cell_type": "markdown",
   "metadata": {
    "lang": "en"
   },
   "source": [
    "As before, make sure that you see the output above in your notebook before continuing.  \n",
    "\n",
    "Once all of the code runs successfully, all of the data (in **train.csv** and **test.csv**) is loaded in the notebook.  (_The code above shows only the first 5 rows of each table, but all of the data is there -- all 891 rows of **train.csv** and all 418 rows of **test.csv**!_)\n",
    "\n",
    "# Part 3: Your first submission\n",
    "\n",
    "Remember our goal: we want to find patterns in **train.csv** that help us predict whether the passengers in **test.csv** survived.\n",
    "\n",
    "It might initially feel overwhelming to look for patterns, when there's so much data to sort through.  So, we'll start simple.\n",
    "\n",
    "## Explore a pattern\n",
    "\n",
    "Remember that the sample submission file in **gender_submission.csv** assumes that all female passengers survived (and all male passengers died).  \n",
    "\n",
    "Is this a reasonable first guess?  We'll check if this pattern holds true in the data (in **train.csv**).\n",
    "\n",
    "Copy the code below into a new code cell.  Then, run the cell."
   ]
  },
  {
   "cell_type": "markdown",
   "metadata": {
    "lang": "zh"
   },
   "source": [
    "和以前一样，确保在继续之前在笔记本中看到上面的输出。\n",
    "\n",
    "一旦所有代码成功运行，所有数据（在 **train.csv** 和 **test.csv** 中）都会加载到笔记本中。 (_上面的代码只显示了每个表的前 5 行，但所有数据都在那里——**train.csv** 的所有 891 行和 **test.csv** 的所有 418 行！_)\n",
    "\n",
    "# 第 3 部分：您的第一次提交\n",
    "\n",
    "记住我们的目标：我们想在 **train.csv** 中找到模式，帮助我们预测 **test.csv** 中的乘客是否幸存。\n",
    "\n",
    "当有如此多的数据需要整理时，最初可能会觉得寻找模式让人不知所措。所以，我们将从简单的开始。\n",
    "\n",
    "## 探索模式\n",
    "\n",
    "请记住，**gender_submission.csv** 中的示例提交文件假设所有女性乘客都幸存（所有男性乘客都死亡）。\n",
    "\n",
    "这是一个合理的初步猜测吗？我们将检查此模式在数据中是否成立（在 **train.csv** 中）。\n",
    "\n",
    "将下面的代码复制到一个新的代码单元中。然后，运行单元格。"
   ]
  },
  {
   "cell_type": "code",
   "execution_count": null,
   "metadata": {
    "scrolled": true
   },
   "outputs": [],
   "source": [
    "women = train_data.loc[train_data.Sex == 'female'][\"Survived\"]\n",
    "rate_women = sum(women)/len(women)\n",
    "\n",
    "print(\"% of women who survived:\", rate_women)"
   ]
  },
  {
   "cell_type": "markdown",
   "metadata": {
    "lang": "en"
   },
   "source": [
    "Before moving on, make sure that your code returns the output above.  The code above calculates the percentage of female passengers (in **train.csv**) who survived.\n",
    "\n",
    "Then, run the code below in another code cell:"
   ]
  },
  {
   "cell_type": "markdown",
   "metadata": {
    "lang": "zh"
   },
   "source": [
    "在继续之前，请确保您的代码返回上面的输出。上面的代码计算了女性乘客（在 **train.csv** 中）幸存下来的百分比。\n",
    "\n",
    "然后，在另一个代码单元中运行下面的代码："
   ]
  },
  {
   "cell_type": "code",
   "execution_count": null,
   "metadata": {},
   "outputs": [],
   "source": [
    "men = train_data.loc[train_data.Sex == 'male'][\"Survived\"]\n",
    "rate_men = sum(men)/len(men)\n",
    "\n",
    "print(\"% of men who survived:\", rate_men)"
   ]
  },
  {
   "cell_type": "markdown",
   "metadata": {
    "lang": "en"
   },
   "source": [
    "The code above calculates the percentage of male passengers (in **train.csv**) who survived.\n",
    "\n",
    "From this you can see that almost 75% of the women on board survived, whereas only 19% of the men lived to tell about it. Since gender seems to be such a strong indicator of survival, the submission file in **gender_submission.csv** is not a bad first guess!\n",
    "\n",
    "But at the end of the day, this gender-based submission bases its predictions on only a single column.  As you can imagine, by considering multiple columns, we can discover more complex patterns that can potentially yield better-informed predictions.  Since it is quite difficult to consider several columns at once (or, it would take a long time to consider all possible patterns in many different columns simultaneously), we'll use machine learning to automate this for us.\n",
    "\n",
    "## Your first machine learning model\n",
    "\n",
    "We'll build what's known as a **random forest model**.  This model is constructed of several \"trees\" (there are three trees in the picture below, but we'll construct 100!) that will individually consider each passenger's data and vote on whether the individual survived.  Then, the random forest model makes a democratic decision: the outcome with the most votes wins!\n",
    "\n",
    "![](https://i.imgur.com/AC9Bq63.png)\n",
    "\n",
    "The code cell below looks for patterns in four different columns (**\"Pclass\"**, **\"Sex\"**, **\"SibSp\"**, and **\"Parch\"**) of the data.  It constructs the trees in the random forest model based on patterns in the **train.csv** file, before generating predictions for the passengers in **test.csv**.  The code also saves these new predictions in a CSV file **submission.csv**.\n",
    "\n",
    "Copy this code into your notebook, and run it in a new code cell."
   ]
  },
  {
   "cell_type": "markdown",
   "metadata": {
    "lang": "zh"
   },
   "source": [
    "上面的代码计算了男性乘客（在 **train.csv** 中）幸存下来的百分比。\n",
    "\n",
    "由此可以看出，船上几乎 75% 的女性幸存下来，而只有 19% 的男性活着讲述了这件事。由于性别似乎是生存的重要指标，所以 **gender_submission.csv** 中的提交文件是一个不错的初步猜测！\n",
    "\n",
    "但归根结底，这种基于性别的提交仅基于一个列进行预测。可以想象，通过考虑多列，我们可以发现更复杂的模式，这些模式可能会产生更明智的预测。由于一次考虑多个列非常困难（或者，同时考虑许多不同列中的所有可能模式需要很长时间），我们将使用机器学习为我们自动执行此操作。\n",
    "\n",
    "## 你的第一个机器学习模型\n",
    "\n",
    "我们将构建所​​谓的**随机森林模型**。这个模型是由几棵“树”构成的（下图中是三棵树，但我们要构造 100 棵！），它们会单独考虑每个乘客的数据，并投票决定这个人是否幸存。然后，随机森林模型做出民主决定：得票最多的结果获胜！\n",
    "\n",
    "![](https://i.imgur.com/AC9Bq63.png)\n",
    "\n",
    "下面的代码单元在四个不同的列中查找模式（**“Pclass”**、**“Sex”**、**“SibSp”** 和 < **>“Parch”**) 的数据。它根据**train.csv**文件中的模式构建随机森林模型中的树，然后为**test.csv**中的乘客生成预测。该代码还将这些新预测保存在 CSV 文件**submission.csv<**> 中。\n",
    "\n",
    "将此代码复制到您的笔记本中，并在新的代码单元中运行它。"
   ]
  },
  {
   "cell_type": "code",
   "execution_count": null,
   "metadata": {
    "_kg_hide-output": false
   },
   "outputs": [],
   "source": [
    "from sklearn.ensemble import RandomForestClassifier\n",
    "\n",
    "y = train_data[\"Survived\"]\n",
    "\n",
    "features = [\"Pclass\", \"Sex\", \"SibSp\", \"Parch\"]\n",
    "X = pd.get_dummies(train_data[features])\n",
    "X_test = pd.get_dummies(test_data[features])\n",
    "\n",
    "model = RandomForestClassifier(n_estimators=100, max_depth=5, random_state=1)\n",
    "model.fit(X, y)\n",
    "predictions = model.predict(X_test)\n",
    "\n",
    "output = pd.DataFrame({'PassengerId': test_data.PassengerId, 'Survived': predictions})\n",
    "output.to_csv('submission.csv', index=False)\n",
    "print(\"Your submission was successfully saved!\")"
   ]
  },
  {
   "cell_type": "markdown",
   "metadata": {
    "lang": "en"
   },
   "source": [
    "Make sure that your notebook outputs the same message above (`Your submission was successfully saved!`) before moving on.\n",
    "> Again, don't worry if this code doesn't make sense to you!  For now, we'll focus on how to generate and submit predictions.\n",
    "\n",
    "Once you're ready, click on the **\"Save Version\"** button in the top right corner of your notebook.  This will generate a pop-up window.  \n",
    "- Ensure that the **\"Save and Run All\"** option is selected, and then click on the **\"Save\"** button.\n",
    "- This generates a window in the bottom left corner of the notebook.  After it has finished running, click on the number to the right of the **\"Save Version\"** button.  This pulls up a list of versions on the right of the screen.  Click on the ellipsis **(...)** to the right of the most recent version, and select **Open in Viewer**.  \n",
    "- Click on the **Data** tab on the top of the screen.  Then, click on the **\"Submit\"** button to submit your results.\n",
    "\n",
    "![](https://i.imgur.com/1ocaUl4.png)\n",
    "\n",
    "Congratulations for making your first submission to a Kaggle competition!  Within ten minutes, you should receive a message providing your spot on the leaderboard.  Great work!"
   ]
  },
  {
   "cell_type": "markdown",
   "metadata": {
    "lang": "zh"
   },
   "source": [
    "在继续之前，请确保您的笔记本输出与上面相同的消息（`您的提交已成功保存！`）。\n",
    "> 同样，如果这段代码对您来说没有意义，请不要担心！现在，我们将重点关注如何生成和提交预测。\n",
    "\n",
    "准备就绪后，单击笔记本右上角的 **“保存版本”** 按钮。这将生成一个弹出窗口。\n",
    "- 确保选择了**“保存并运行所有”**选项，然后单击**“保存”**按钮。\n",
    "- 这会在笔记本的左下角生成一个窗口。运行完成后，单击 **“保存版本”** 按钮右侧的数字。这会在屏幕右侧拉出一个版本列表。单击最新版本右侧的省略号 **(...)**，然后选择 **在查看器中打开**。\n",
    "- 单击屏幕顶部的 **数据** 选项卡。然后，单击**“提交”** 按钮提交您的结果。\n",
    "\n",
    "![](https://i.imgur.com/1ocaUl4.png)\n",
    "\n",
    "恭喜你第一次提交 Kaggle 竞赛！十分钟内，您应该会收到一条消息，提供您在排行榜上的位置。做得好！"
   ]
  },
  {
   "cell_type": "markdown",
   "metadata": {
    "lang": "en"
   },
   "source": [
    "# Part 4: Learn more!\n",
    "\n",
    "If you're interested in learning more, we strongly suggest our (3-hour) **[Intro to Machine Learning](https://www.kaggle.com/learn/intro-to-machine-learning)** course, which will help you fully understand all of the code that we've presented here.  You'll also know enough to generate even better predictions!"
   ]
  },
  {
   "cell_type": "markdown",
   "metadata": {
    "lang": "zh"
   },
   "source": [
    "# 第 4 部分：了解更多！\n",
    "\n",
    "如果您有兴趣了解更多信息，我们强烈建议您阅读我们的（3 小时）<**>[机器学习简介](https://www.kaggle.com/learn/intro-to-machine-learning)<**> 当然，这将帮助您完全理解我们在此处提供的所有代码。您还将了解足以生成更好的预测！"
   ]
  }
 ],
 "metadata": {
  "kernelspec": {
   "display_name": "Python 3 (ipykernel)",
   "language": "python",
   "name": "python3"
  },
  "language_info": {
   "codemirror_mode": {
    "name": "ipython",
    "version": 3
   },
   "file_extension": ".py",
   "mimetype": "text/x-python",
   "name": "python",
   "nbconvert_exporter": "python",
   "pygments_lexer": "ipython3",
   "version": "3.9.16"
  },
  "nbTranslate": {
   "displayLangs": [
    "zh",
    "en"
   ],
   "hotkey": "alt-t",
   "langInMainMenu": true,
   "sourceLang": "en",
   "targetLang": "zh",
   "useGoogleTranslate": true
  }
 },
 "nbformat": 4,
 "nbformat_minor": 4
}
