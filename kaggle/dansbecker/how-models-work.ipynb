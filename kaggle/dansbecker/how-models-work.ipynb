{
 "cells": [
  {
   "cell_type": "markdown",
   "id": "f0acac58",
   "metadata": {
    "lang": "en",
    "papermill": {
     "duration": 0.002579,
     "end_time": "2023-04-21T13:39:38.019960",
     "exception": false,
     "start_time": "2023-04-21T13:39:38.017381",
     "status": "completed"
    },
    "tags": []
   },
   "source": [
    "# Introduction\n",
    "We'll start with an overview of how machine learning models work and how they are used. This may feel basic if you've done statistical modeling or machine learning before. Don't worry, we will progress to building powerful models soon.\n",
    "\n",
    "This course will have you build models as you go through following scenario:\n",
    "\n",
    "Your cousin has made millions of dollars speculating on real estate. He's offered to become business partners with you because of your interest in data science. He'll supply the money, and you'll supply models that predict how much various houses are worth.\n",
    "\n",
    "You ask your cousin how he's predicted real estate values in the past, and he says it is just intuition. But more questioning reveals that he's identified price patterns from houses he has seen in the past, and he uses those patterns to make predictions for new houses he is considering.\n",
    "\n",
    "Machine learning works the same way.  We'll start with a model called the Decision Tree. There are fancier models that give more accurate predictions. But decision trees are easy to understand, and they are the basic building block for some of the best models in data science.\n",
    "\n",
    "For simplicity, we'll start with the simplest possible decision tree. \n",
    "\n",
    "![First Decision Trees](https://storage.googleapis.com/kaggle-media/learn/images/7tsb5b1.png)\n",
    "\n",
    "It divides houses into only two categories. The predicted price for any house under consideration is the historical average price of houses in the same category.\n",
    "\n",
    "We use data to decide how to break the houses into two groups,  and then again to determine the predicted price in each group.  This step of capturing patterns from data is called **fitting** or **training** the model. The data used to **fit** the model is called the **training data**.  \n",
    "\n",
    "The details of how the model is fit (e.g. how to split up the data) is complex enough that we will save it for later. After the model has been fit, you can apply it to new data to **predict** prices of additional homes.\n",
    "\n",
    "---\n",
    "# Improving the Decision Tree\n",
    "Which of the following two decision trees is more likely to result from fitting the real estate training data?\n",
    "\n",
    "![First Decision Trees](https://storage.googleapis.com/kaggle-media/learn/images/prAjgku.png)\n",
    "\n",
    "\n",
    "The decision tree on the left (Decision Tree 1) probably makes more sense, because it captures the reality that houses with more bedrooms tend to sell at higher prices than houses with fewer bedrooms.  The biggest shortcoming of this model is that it doesn't capture most factors affecting home price, like number of bathrooms, lot size, location, etc. \n",
    "\n",
    "You can capture more factors using a tree that has more \"splits.\" These are called \"deeper\" trees. A decision tree that also considers the total size of each house's lot might look like this: \n",
    "![Depth 2 Tree](https://storage.googleapis.com/kaggle-media/learn/images/R3ywQsR.png)\n",
    "\n",
    "You predict the price of any house by tracing through the decision tree, always picking the path corresponding to that house's characteristics. The predicted price for the house is at the bottom of the tree.  The point at the bottom where we make a prediction is called a **leaf.**   \n",
    "\n",
    "The splits and values at the leaves will be determined by the data, so it's time for you to check out the data you will be working with.\n",
    "\n",
    "# Continue\n",
    "Let's get more specific. It's time to **[Examine Your Data](https://www.kaggle.com/dansbecker/basic-data-exploration)**.\n"
   ]
  },
  {
   "cell_type": "markdown",
   "id": "ad38fc55",
   "metadata": {
    "lang": "zh"
   },
   "source": [
    "＃ 介绍\n",
    "我们将从概述机器学习模型的工作原理及其使用方式开始。如果您以前做过统计建模或机器学习，这可能感觉很基础。别担心，我们很快就会构建强大的模型。\n",
    "\n",
    "本课程将让您在经历以下场景时构建模型：\n",
    "\n",
    "你的堂兄通过房地产投机赚了数百万美元。由于您对数据科学的兴趣，他主动提出与您成为业务合作伙伴。他会提供资金，而你会提供模型来预测各种房屋的价值。\n",
    "\n",
    "你问你的堂兄他过去是如何预测房地产价值的，他说这只是直觉。但更多的询问表明，他从他过去看过的房子中确定了价格模式，并使用这些模式对他正在考虑的新房子做出预测。\n",
    "\n",
    "机器学习的工作方式相同。我们将从一个称为决策树的模型开始。有更高级的模型可以提供更准确的预测。但是决策树很容易理解，它们是数据科学中一些最佳模型的基本构建块。\n",
    "\n",
    "为简单起见，我们将从最简单的决策树开始。\n",
    "\n",
    "![第一决策树](https://storage.googleapis.com/kaggle-media/learn/images/7tsb5b1.png)\n",
    "\n",
    "它仅将房屋分为两类。所考虑的任何房屋的预测价格都是同类房屋的历史平均价格。\n",
    "\n",
    "我们使用数据来决定如何将房屋分成两组，然后再次确定每组的预测价格。这个从数据中捕获模式的步骤称为**拟合**或**训练**模型。用于**拟合**模型的数据称为**训练数据**。\n",
    "\n",
    "模型如何拟合的细节（例如如何拆分数据）非常复杂，我们将把它保存起来以备后用。模型拟合后，您可以将其应用于新数据以**预测**额外房屋的价格。\n",
    "\n",
    "---\n",
    "# 改进决策树\n",
    "以下两个决策树中哪一个更可能由拟合房地产训练数据产生？\n",
    "\n",
    "![第一决策树](https://storage.googleapis.com/kaggle-media/learn/images/prAjgku.png)\n",
    "\n",
    "\n",
    "左侧的决策树（决策树 1）可能更有意义，因为它反映了卧室较多的房屋往往比卧室较少的房屋售价更高的现实。这个模型最大的缺点是它没有捕捉到影响房价的大部分因素，比如浴室的数量、地块大小、位置等。\n",
    "\n",
    "您可以使用具有更多“分裂”的树来捕获更多因素。这些被称为“更深”的树。还考虑每个房屋的总面积的决策树可能如下所示：\n",
    "![深度 2 树](https://storage.googleapis.com/kaggle-media/learn/images/R3ywQsR.png)\n",
    "\n",
    "您可以通过跟踪决策树来预测任何房屋的价格，始终选择与该房屋的特征相对应的路径。房子的预测价格在树的底部。我们进行预测的底部点称为**叶。**\n",
    "\n",
    "叶子上的拆分和值将由数据决定，所以是时候检查您将使用的数据了。\n",
    "\n",
    "＃ 继续\n",
    "让我们更具体一点。是时候**[检查您的数据](https://www.kaggle.com/dansbecker/basic-data-exploration)**。"
   ]
  },
  {
   "cell_type": "markdown",
   "id": "9cb04aab",
   "metadata": {
    "papermill": {
     "duration": 0.001453,
     "end_time": "2023-04-21T13:39:38.023138",
     "exception": false,
     "start_time": "2023-04-21T13:39:38.021685",
     "status": "completed"
    },
    "tags": []
   },
   "source": [
    "---\n",
    "\n",
    "\n",
    "\n",
    "\n",
    "*Have questions or comments? Visit the [course discussion forum](https://www.kaggle.com/learn/intro-to-machine-learning/discussion) to chat with other learners.*"
   ]
  }
 ],
 "metadata": {
  "kernelspec": {
   "display_name": "Python 3 (ipykernel)",
   "language": "python",
   "name": "python3"
  },
  "language_info": {
   "codemirror_mode": {
    "name": "ipython",
    "version": 3
   },
   "file_extension": ".py",
   "mimetype": "text/x-python",
   "name": "python",
   "nbconvert_exporter": "python",
   "pygments_lexer": "ipython3",
   "version": "3.9.16"
  },
  "nbTranslate": {
   "displayLangs": [
    "en",
    "zh"
   ],
   "hotkey": "alt-t",
   "langInMainMenu": true,
   "sourceLang": "en",
   "targetLang": "zh",
   "useGoogleTranslate": true
  },
  "papermill": {
   "default_parameters": {},
   "duration": 11.296397,
   "end_time": "2023-04-21T13:39:38.649028",
   "environment_variables": {},
   "exception": null,
   "input_path": "__notebook__.ipynb",
   "output_path": "__notebook__.ipynb",
   "parameters": {},
   "start_time": "2023-04-21T13:39:27.352631",
   "version": "2.4.0"
  }
 },
 "nbformat": 4,
 "nbformat_minor": 5
}
