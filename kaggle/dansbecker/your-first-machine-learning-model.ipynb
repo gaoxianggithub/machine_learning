{
 "cells": [
  {
   "cell_type": "markdown",
   "metadata": {
    "lang": "en"
   },
   "source": [
    "# Selecting Data for Modeling\n",
    "Your dataset had  too many variables to wrap your head around, or even to print out nicely.  How can you pare down this overwhelming amount of data to something you can understand?\n",
    "\n",
    "We'll start by picking a few variables using our intuition. Later courses will show you statistical techniques to automatically prioritize variables.\n",
    "\n",
    "To choose variables/columns, we'll need to see a list of all columns in the dataset. That is done with the **columns** property of the DataFrame (the bottom line of code below).\n"
   ]
  },
  {
   "cell_type": "markdown",
   "metadata": {
    "lang": "zh"
   },
   "source": [
    "# 选择数据建模\n",
    "您的数据集包含太多变量，您无法全神贯注，甚至无法很好地打印出来。您如何才能将如此庞大的数据缩减为您可以理解的内容？\n",
    "\n",
    "我们将从使用我们的直觉选择一些变量开始。后面的课程将向您展示自动确定变量优先级的统计技术。\n",
    "\n",
    "要选择变量/列，我们需要查看数据集中所有列的列表。这是通过 DataFrame 的 **columns** 属性完成的（下面代码的最后一行）。"
   ]
  },
  {
   "cell_type": "code",
   "execution_count": null,
   "metadata": {},
   "outputs": [],
   "source": [
    "import pandas as pd\n",
    "\n",
    "melbourne_file_path = '../input/melbourne-housing-snapshot/melb_data.csv'\n",
    "melbourne_data = pd.read_csv(melbourne_file_path) \n",
    "melbourne_data.columns"
   ]
  },
  {
   "cell_type": "code",
   "execution_count": null,
   "metadata": {
    "lang": "en"
   },
   "outputs": [],
   "source": [
    "# The Melbourne data has some missing values (some houses for which some variables weren't recorded.)\n",
    "# We'll learn to handle missing values in a later tutorial.  \n",
    "# Your Iowa data doesn't have missing values in the columns you use. \n",
    "# So we will take the simplest option for now, and drop houses from our data. \n",
    "# Don't worry about this much for now, though the code is:\n",
    "\n",
    "# dropna drops missing values (think of na as \"not available\")\n",
    "melbourne_data = melbourne_data.dropna(axis=0)"
   ]
  },
  {
   "cell_type": "markdown",
   "metadata": {
    "lang": "zh"
   },
   "source": [
    "# 墨尔本数据有一些缺失值（一些房屋的一些变量没有被记录。）\n",
    "# 我们将在后面的教程中学习处理缺失值。\n",
    "# 你的爱荷华数据在你使用的列中没有缺失值。\n",
    "# 所以我们现在将采用最简单的选择，并从我们的数据中删除房屋。\n",
    "# 现在不要担心这么多，虽然代码是：\n",
    "\n",
    "# dropna 删除缺失值（将 na 视为“不可用”）\n",
    "墨尔本_data = 墨尔本_data.dropna(axis=0)"
   ]
  },
  {
   "cell_type": "markdown",
   "metadata": {
    "lang": "en"
   },
   "source": [
    "There are many ways to select a subset of your data. The [Pandas course](https://www.kaggle.com/learn/pandas) covers these in more depth, but we will focus on two approaches for now.\n",
    "\n",
    "1. Dot notation, which we use to select the \"prediction target\"\n",
    "2. Selecting with a column list, which we use to select the \"features\" \n",
    "\n",
    "## Selecting The Prediction Target \n",
    "You can pull out a variable with **dot-notation**.  This single column is stored in a **Series**, which is broadly like a DataFrame with only a single column of data.  \n",
    "\n",
    "We'll use the dot notation to select the column we want to predict, which is called the **prediction target**. By convention, the prediction target is called **y**. So the code we need to save the house prices in the Melbourne data is"
   ]
  },
  {
   "cell_type": "markdown",
   "metadata": {
    "lang": "zh"
   },
   "source": [
    "有多种方法可以选择数据的子集。 [Pandas 课程](https://www.kaggle.com/learn/pandas) 更深入地介绍了这些方法，但我们现在将重点关注两种方法。\n",
    "\n",
    "1.点符号，我们用来选择“预测目标”\n",
    "2.选择列列表，我们用它来选择“特征”\n",
    "\n",
    "## 选择预测目标\n",
    "您可以使用**点符号** 提取变量。此单列存储在 **Series** 中，它大致类似于只有单列数据的 DataFrame。\n",
    "\n",
    "我们将使用点符号来选择我们想要预测的列，这称为 **预测目标**。按照惯例，预测目标称为**y**。所以我们需要在墨尔本数据中保存房价的代码是"
   ]
  },
  {
   "cell_type": "code",
   "execution_count": null,
   "metadata": {
    "collapsed": true,
    "jupyter": {
     "outputs_hidden": true
    }
   },
   "outputs": [],
   "source": [
    "y = melbourne_data.Price"
   ]
  },
  {
   "cell_type": "markdown",
   "metadata": {
    "lang": "en"
   },
   "source": [
    "# Choosing \"Features\"\n",
    "The columns that are inputted into our model (and later used to make predictions) are called \"features.\" In our case, those would be the columns used to determine the home price. Sometimes, you will use all columns except the target as features. Other times you'll be better off with fewer features. \n",
    "\n",
    "For now, we'll build a model with only a few features. Later on you'll see how to iterate and compare models built with different features.\n",
    "\n",
    "We select multiple features by providing a list of column names inside brackets. Each item in that list should be a string (with quotes).\n",
    "\n",
    "Here is an example:"
   ]
  },
  {
   "cell_type": "markdown",
   "metadata": {
    "lang": "zh"
   },
   "source": [
    "# 选择“特征”\n",
    "输入到我们模型中的列（随后用于进行预测）称为“特征”。在我们的例子中，这些将是用于确定房价的列。有时，您会使用除目标之外的所有列作为特征。其他时候，功能越少越好。\n",
    "\n",
    "现在，我们将构建一个只有几个特征的模型。稍后您将看到如何迭代和比较使用不同功能构建的模型。\n",
    "\n",
    "我们通过在括号内提供列名列表来选择多个功能。该列表中的每个项目都应该是一个字符串（带引号）。\n",
    "\n",
    "这是一个例子："
   ]
  },
  {
   "cell_type": "code",
   "execution_count": null,
   "metadata": {
    "collapsed": true,
    "jupyter": {
     "outputs_hidden": true
    }
   },
   "outputs": [],
   "source": [
    "melbourne_features = ['Rooms', 'Bathroom', 'Landsize', 'Lattitude', 'Longtitude']"
   ]
  },
  {
   "cell_type": "markdown",
   "metadata": {
    "lang": "en"
   },
   "source": [
    "By convention, this data is called **X**."
   ]
  },
  {
   "cell_type": "markdown",
   "metadata": {
    "lang": "zh"
   },
   "source": [
    "按照惯例，此数据称为 **X**。"
   ]
  },
  {
   "cell_type": "code",
   "execution_count": null,
   "metadata": {
    "collapsed": true,
    "jupyter": {
     "outputs_hidden": true
    }
   },
   "outputs": [],
   "source": [
    "X = melbourne_data[melbourne_features]"
   ]
  },
  {
   "cell_type": "markdown",
   "metadata": {
    "lang": "en"
   },
   "source": [
    "Let's quickly review the data we'll be using to predict house prices using the `describe` method and the `head` method, which shows the top few rows."
   ]
  },
  {
   "cell_type": "markdown",
   "metadata": {
    "lang": "zh"
   },
   "source": [
    "让我们快速回顾一下我们将使用“describe”方法和“head”方法预测房价的数据，它显示了前几行。"
   ]
  },
  {
   "cell_type": "code",
   "execution_count": null,
   "metadata": {},
   "outputs": [],
   "source": [
    "X.describe()"
   ]
  },
  {
   "cell_type": "code",
   "execution_count": null,
   "metadata": {},
   "outputs": [],
   "source": [
    "X.head()"
   ]
  },
  {
   "cell_type": "markdown",
   "metadata": {
    "lang": "en"
   },
   "source": [
    "Visually checking your data with these commands is an important part of a data scientist's job.  You'll frequently find surprises in the dataset that deserve further inspection."
   ]
  },
  {
   "cell_type": "markdown",
   "metadata": {
    "lang": "zh"
   },
   "source": [
    "使用这些命令直观地检查您的数据是数据科学家工作的重要组成部分。您会经常在数据集中发现值得进一步检查的惊喜。"
   ]
  },
  {
   "cell_type": "markdown",
   "metadata": {
    "lang": "en"
   },
   "source": [
    "---\n",
    "# Building Your Model\n",
    "\n",
    "You will use the **scikit-learn** library to create your models.  When coding, this library is written as **sklearn**, as you will see in the sample code. Scikit-learn is easily the most popular library for modeling the types of data typically stored in DataFrames. \n",
    "\n",
    "The steps to building and using a model are:\n",
    "* **Define:** What type of model will it be?  A decision tree?  Some other type of model? Some other parameters of the model type are specified too.\n",
    "* **Fit:** Capture patterns from provided data. This is the heart of modeling.\n",
    "* **Predict:** Just what it sounds like\n",
    "* **Evaluate**: Determine how accurate the model's predictions are.\n",
    "\n",
    "Here is an example of defining a decision tree model with scikit-learn and fitting it with the features and target variable."
   ]
  },
  {
   "cell_type": "markdown",
   "metadata": {
    "lang": "zh"
   },
   "source": [
    "---\n",
    "# 建立你的模型\n",
    "\n",
    "您将使用 **scikit-learn** 库来创建您的模型。编码时，这个库被写成**sklearn**，正如您将在示例代码中看到的那样。 Scikit-learn 很容易成为最流行的库，用于对通常存储在 DataFrame 中的数据类型进行建模。\n",
    "\n",
    "建立和使用模型的步骤是：\n",
    "***定义：**它将是什么类型的模型？决策树？其他类型的模型？还指定了模型类型的其他一些参数。***适合：**从提供的数据中捕获模式。这是建模的核心。***预测：**听起来像什么***评估**：确定模型预测的准确性。\n",
    "\n",
    "下面是一个使用 scikit-learn 定义决策树模型并将其与特征和目标变量拟合的示例。"
   ]
  },
  {
   "cell_type": "code",
   "execution_count": null,
   "metadata": {
    "collapsed": true,
    "jupyter": {
     "outputs_hidden": true
    }
   },
   "outputs": [],
   "source": [
    "from sklearn.tree import DecisionTreeRegressor\n",
    "\n",
    "# Define model. Specify a number for random_state to ensure same results each run\n",
    "melbourne_model = DecisionTreeRegressor(random_state=1)\n",
    "\n",
    "# Fit model\n",
    "melbourne_model.fit(X, y)"
   ]
  },
  {
   "cell_type": "markdown",
   "metadata": {
    "lang": "en"
   },
   "source": [
    "Many machine learning models allow some randomness in model training. Specifying a number for `random_state` ensures you get the same results in each run. This is considered a good practice. You use any number, and model quality won't depend meaningfully on exactly what value you choose.\n",
    "\n",
    "We now have a fitted model that we can use to make predictions.\n",
    "\n",
    "In practice, you'll want to make predictions for new houses coming on the market rather than the houses we already have prices for. But we'll make predictions for the first few rows of the training data to see how the predict function works.\n"
   ]
  },
  {
   "cell_type": "markdown",
   "metadata": {
    "lang": "zh"
   },
   "source": [
    "许多机器学习模型在模型训练中允许一些随机性。为 `random_state` 指定一个数字可确保您在每次运行中获得相同的结果。这被认为是一种很好的做法。您使用任何数字，模型质量不会有意义地取决于您选择的值。\n",
    "\n",
    "我们现在有了一个可以用来进行预测的拟合模型。\n",
    "\n",
    "在实践中，您需要对即将上市的新房进行预测，而不是我们已经有价格的房屋。但我们将对训练数据的前几行进行预测，以了解预测函数的工作原理。"
   ]
  },
  {
   "cell_type": "code",
   "execution_count": null,
   "metadata": {
    "collapsed": true,
    "jupyter": {
     "outputs_hidden": true
    }
   },
   "outputs": [],
   "source": [
    "print(\"Making predictions for the following 5 houses:\")\n",
    "print(X.head())\n",
    "print(\"The predictions are\")\n",
    "print(melbourne_model.predict(X.head()))"
   ]
  },
  {
   "cell_type": "markdown",
   "metadata": {},
   "source": [
    "# Your Turn\n",
    "Try it out yourself in the **[Model Building Exercise](https://www.kaggle.com/kernels/fork/1404276)**"
   ]
  },
  {
   "cell_type": "markdown",
   "metadata": {},
   "source": [
    "---\n",
    "\n",
    "\n",
    "\n",
    "\n",
    "*Have questions or comments? Visit the [course discussion forum](https://www.kaggle.com/learn/intro-to-machine-learning/discussion) to chat with other learners.*"
   ]
  }
 ],
 "metadata": {
  "kernelspec": {
   "display_name": "Python 3 (ipykernel)",
   "language": "python",
   "name": "python3"
  },
  "language_info": {
   "codemirror_mode": {
    "name": "ipython",
    "version": 3
   },
   "file_extension": ".py",
   "mimetype": "text/x-python",
   "name": "python",
   "nbconvert_exporter": "python",
   "pygments_lexer": "ipython3",
   "version": "3.9.16"
  },
  "nbTranslate": {
   "displayLangs": [
    "zh",
    "en"
   ],
   "hotkey": "alt-t",
   "langInMainMenu": true,
   "sourceLang": "en",
   "targetLang": "zh",
   "useGoogleTranslate": true
  }
 },
 "nbformat": 4,
 "nbformat_minor": 4
}
