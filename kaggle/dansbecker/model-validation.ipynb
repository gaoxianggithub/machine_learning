{
 "cells": [
  {
   "cell_type": "markdown",
   "id": "1731d337",
   "metadata": {
    "lang": "en",
    "papermill": {
     "duration": 0.00427,
     "end_time": "2023-04-21T13:39:04.385175",
     "exception": false,
     "start_time": "2023-04-21T13:39:04.380905",
     "status": "completed"
    },
    "tags": []
   },
   "source": [
    "You've built a model. But how good is it?\n",
    "\n",
    "In this lesson, you will learn to use model validation to measure the quality of your model. Measuring model quality is the key to iteratively improving your models.\n",
    "\n",
    "# What is Model Validation\n",
    "\n",
    "You'll want to evaluate almost every model you ever build. In most (though not all) applications, the relevant measure of model quality is predictive accuracy. In other words, will the model's predictions be close to what actually happens.\n",
    "\n",
    "Many people make a huge mistake when measuring predictive accuracy. They make predictions with their *training data* and compare those predictions to the target values in the *training data*. You'll see the problem with this approach and how to solve it in a moment, but let's think about how we'd do this first.\n",
    "\n",
    "You'd first need to summarize the model quality into an understandable way. If you compare predicted and actual home values for 10,000 houses, you'll likely find mix of good and bad predictions. Looking through a list of 10,000 predicted and actual values would be pointless. We need to summarize this into a single metric.\n",
    "\n",
    "There are many metrics for summarizing model quality, but we'll start with one called **Mean Absolute Error** (also called **MAE**). Let's break down this metric starting with the last word, error.\n",
    "\n",
    "The prediction error for each house is: <br>\n",
    "```\n",
    "error=actual−predicted\n",
    "```\n",
    " \n",
    "So, if a house cost \\$150,000 and you predicted it would cost \\$100,000 the error is \\$50,000.\n",
    "\n",
    "With the MAE metric, we take the absolute value of each error. This converts each error to a positive number. We then take the average of those absolute errors. This is our measure of model quality. In plain English, it can be said as\n",
    "\n",
    "> On average, our predictions are off by about X.\n",
    "\n",
    "To calculate MAE, we first need a model. That is built in a hidden cell below, which you can review by clicking the `code` button."
   ]
  },
  {
   "cell_type": "markdown",
   "id": "af1660a6",
   "metadata": {
    "lang": "zh"
   },
   "source": [
    "您将想要评估您构建的几乎每个模型。在大多数（尽管不是全部）应用中，模型质量的相关衡量标准是预测准确性。换句话说，模型的预测是否接近实际发生的情况。\n",
    "\n",
    "许多人在衡量预测准确性时犯了一个严重的错误。他们使用训练数据进行预测，并将这些预测与训练数据中的目标值进行比较。您将会看到这种方法的问题以及如何解决它，但首先让我们思考一下如何进行。\n",
    "\n",
    "首先，您需要将模型质量总结为一种可理解的方式。如果您比较了对于 10,000 栋房屋的预测和实际房屋价值，您可能会发现好的和坏的预测混杂在一起。浏览一份包含 10,000 个预测和实际值的列表将是毫无意义的。我们需要将其总结为单个指标。\n",
    "\n",
    "有许多用于总结模型质量的指标，但我们将从一个叫做平均绝对误差（Mean Absolute Error，简称MAE）的指标开始。让我们从最后一个词开始解析这个指标，即误差。\n",
    "\n",
    "每个房屋的预测误差为：\n",
    "\n",
    "误差 = 实际值 - 预测值\n",
    "\n",
    "因此，如果一座房屋的成本是 150,000 美元，而预测值是 100,000 美元，那么误差就是 50,000 美元。\n",
    "\n",
    "使用MAE指标，我们取每个误差的绝对值。这将将每个误差转换为正数。然后，我们取这些绝对误差的平均值。这是我们衡量模型质量的指标。用简单的英语来说，可以说：\n",
    "\n",
    "平均而言，我们的预测偏差约为X。\n",
    "\n",
    "要计算MAE，我们首先需要一个模型。下面的隐藏单元格中已经构建了该模型，您可以通过点击代码按钮来查看。"
   ]
  },
  {
   "cell_type": "code",
   "execution_count": 1,
   "id": "42f001ab",
   "metadata": {
    "_kg_hide-input": true,
    "_kg_hide-output": true,
    "collapsed": true,
    "execution": {
     "iopub.execute_input": "2023-04-21T13:39:04.393683Z",
     "iopub.status.busy": "2023-04-21T13:39:04.392781Z",
     "iopub.status.idle": "2023-04-21T13:39:05.899258Z",
     "shell.execute_reply": "2023-04-21T13:39:05.897700Z"
    },
    "papermill": {
     "duration": 1.513946,
     "end_time": "2023-04-21T13:39:05.902265",
     "exception": false,
     "start_time": "2023-04-21T13:39:04.388319",
     "status": "completed"
    },
    "tags": []
   },
   "outputs": [
    {
     "data": {
      "text/plain": [
       "DecisionTreeRegressor()"
      ]
     },
     "execution_count": 1,
     "metadata": {},
     "output_type": "execute_result"
    }
   ],
   "source": [
    "# 加载数据，隐藏这里\n",
    "import pandas as pd\n",
    "\n",
    "# 加载数据\n",
    "melbourne_file_path = '../input/melbourne-housing-snapshot/melb_data.csv'\n",
    "melbourne_data = pd.read_csv(melbourne_file_path) \n",
    "# 填充数据确实价格\n",
    "filtered_melbourne_data = melbourne_data.dropna(axis=0)\n",
    "# 选择目标和特征值\n",
    "y = filtered_melbourne_data.Price\n",
    "melbourne_features = ['Rooms', 'Bathroom', 'Landsize', 'BuildingArea', \n",
    "                        'YearBuilt', 'Lattitude', 'Longtitude']\n",
    "X = filtered_melbourne_data[melbourne_features]\n",
    "\n",
    "from sklearn.tree import DecisionTreeRegressor\n",
    "# 定义模型\n",
    "melbourne_model = DecisionTreeRegressor()\n",
    "# 训练模型\n",
    "melbourne_model.fit(X, y)"
   ]
  },
  {
   "cell_type": "markdown",
   "id": "e09f4d57",
   "metadata": {
    "lang": "en",
    "papermill": {
     "duration": 0.002714,
     "end_time": "2023-04-21T13:39:05.908102",
     "exception": false,
     "start_time": "2023-04-21T13:39:05.905388",
     "status": "completed"
    },
    "tags": []
   },
   "source": [
    "Once we have a model, here is how we calculate the mean absolute error:"
   ]
  },
  {
   "cell_type": "markdown",
   "id": "9041f928",
   "metadata": {
    "lang": "zh"
   },
   "source": [
    "一旦我们有了模型，下面就是我们如何计算平均绝对误差："
   ]
  },
  {
   "cell_type": "code",
   "execution_count": 2,
   "id": "7a07daea",
   "metadata": {
    "collapsed": true,
    "execution": {
     "iopub.execute_input": "2023-04-21T13:39:05.916096Z",
     "iopub.status.busy": "2023-04-21T13:39:05.915626Z",
     "iopub.status.idle": "2023-04-21T13:39:05.927455Z",
     "shell.execute_reply": "2023-04-21T13:39:05.926311Z"
    },
    "papermill": {
     "duration": 0.019076,
     "end_time": "2023-04-21T13:39:05.930167",
     "exception": false,
     "start_time": "2023-04-21T13:39:05.911091",
     "status": "completed"
    },
    "tags": []
   },
   "outputs": [
    {
     "data": {
      "text/plain": [
       "434.71594577146544"
      ]
     },
     "execution_count": 2,
     "metadata": {},
     "output_type": "execute_result"
    }
   ],
   "source": [
    "from sklearn.metrics import mean_absolute_error\n",
    "\n",
    "predicted_home_prices = melbourne_model.predict(X)\n",
    "mean_absolute_error(y, predicted_home_prices)"
   ]
  },
  {
   "cell_type": "markdown",
   "id": "c137a1a4",
   "metadata": {
    "lang": "en",
    "papermill": {
     "duration": 0.002885,
     "end_time": "2023-04-21T13:39:05.936327",
     "exception": false,
     "start_time": "2023-04-21T13:39:05.933442",
     "status": "completed"
    },
    "tags": []
   },
   "source": [
    "# The Problem with \"In-Sample\" Scores\n",
    "\n",
    "The measure we just computed can be called an \"in-sample\" score. We used a single \"sample\" of houses for both building the model and evaluating it. Here's why this is bad.\n",
    "\n",
    "Imagine that, in the large real estate market, door color is unrelated to home price. \n",
    "\n",
    "However, in the sample of data you used to build the model, all homes with green doors were very expensive. The model's job is to find patterns that predict home prices, so it will see this pattern, and it will always predict high prices for homes with green doors.\n",
    "\n",
    "Since this pattern was derived from the training data, the model will appear accurate in the training data.\n",
    "\n",
    "But if this pattern doesn't hold when the model sees new data, the model would be very inaccurate when used in practice.\n",
    "\n",
    "Since models' practical value come from making predictions on new data, we measure performance on data that wasn't used to build the model. The most straightforward way to do this is to exclude some data from the model-building process, and then use those to test the model's accuracy on data it hasn't seen before. This data is called **validation data**.\n",
    "\n",
    "\n",
    "# Coding It\n",
    "\n",
    "\n",
    "The scikit-learn library has a function `train_test_split` to break up the data into two pieces. We'll use some of that data as training data to fit the model, and we'll use the other data as validation data to calculate `mean_absolute_error`.\n",
    "\n",
    "Here is the code:"
   ]
  },
  {
   "cell_type": "markdown",
   "id": "5647b429",
   "metadata": {
    "lang": "zh"
   },
   "source": [
    "# “样本内”分数的问题\n",
    "\n",
    "我们刚刚计算的度量可以称为“样本内”分数。我们使用单个房屋“样本”来构建模型和评估模型。这就是为什么这很糟糕。\n",
    "\n",
    "想象一下，在大型房地产市场中，门的颜色与房价无关。\n",
    "\n",
    "但是，在您用于构建模型的数据样本中，所有带绿色门的房屋都非常昂贵。该模型的工作是找到预测房价的模式，因此它会看到这种模式，并且它总是会预测带有绿色门的房屋的高价。\n",
    "\n",
    "由于此模式源自训练数据，因此该模型在训练数据中将显得准确。\n",
    "\n",
    "但是，如果当模型看到新数据时这种模式不成立，那么该模型在实践中使用时将非常不准确。\n",
    "\n",
    "由于模型的实用价值来自对新数据的预测，因此我们衡量未用于构建模型的数据的性能。最直接的方法是从模型构建过程中排除一些数据，然后使用这些数据来测试模型对以前从未见过的数据的准确性。此数据称为**验证数据**。\n",
    "\n",
    "\n",
    "# 编码\n",
    "\n",
    "\n",
    "scikit-learn 库有一个函数“train_test_split”，可以将数据分成两部分。我们将使用其中一些数据作为训练数据来拟合模型，我们将使用其他数据作为验证数据来计算`mean_absolute_error`。\n",
    "\n",
    "这是代码："
   ]
  },
  {
   "cell_type": "code",
   "execution_count": 3,
   "id": "f32812aa",
   "metadata": {
    "collapsed": true,
    "execution": {
     "iopub.execute_input": "2023-04-21T13:39:05.944575Z",
     "iopub.status.busy": "2023-04-21T13:39:05.944167Z",
     "iopub.status.idle": "2023-04-21T13:39:05.990339Z",
     "shell.execute_reply": "2023-04-21T13:39:05.988735Z"
    },
    "papermill": {
     "duration": 0.053893,
     "end_time": "2023-04-21T13:39:05.993311",
     "exception": false,
     "start_time": "2023-04-21T13:39:05.939418",
     "status": "completed"
    },
    "tags": []
   },
   "outputs": [
    {
     "name": "stdout",
     "output_type": "stream",
     "text": [
      "265806.91478373145\n"
     ]
    }
   ],
   "source": [
    "from sklearn.model_selection import train_test_split\n",
    "\n",
    "# split data into training and validation data, for both features and target\n",
    "# The split is based on a random number generator. Supplying a numeric value to\n",
    "# the random_state argument guarantees we get the same split every time we\n",
    "# run this script.\n",
    "train_X, val_X, train_y, val_y = train_test_split(X, y, random_state = 0)\n",
    "# Define model\n",
    "melbourne_model = DecisionTreeRegressor()\n",
    "# Fit model\n",
    "melbourne_model.fit(train_X, train_y)\n",
    "\n",
    "# get predicted prices on validation data\n",
    "val_predictions = melbourne_model.predict(val_X)\n",
    "print(mean_absolute_error(val_y, val_predictions))"
   ]
  },
  {
   "cell_type": "markdown",
   "id": "622ebb51",
   "metadata": {
    "lang": "en",
    "papermill": {
     "duration": 0.003073,
     "end_time": "2023-04-21T13:39:05.999869",
     "exception": false,
     "start_time": "2023-04-21T13:39:05.996796",
     "status": "completed"
    },
    "tags": []
   },
   "source": [
    "# Wow!\n",
    "\n",
    "Your mean absolute error for the in-sample data was about 500 dollars.  Out-of-sample it is more than 250,000 dollars.\n",
    "\n",
    "This is the difference between a model that is almost exactly right, and one that is unusable for most practical purposes.  As a point of reference, the average home value in the validation data is 1.1 million dollars.  So the error in new data is about a quarter of the average home value. \n",
    "\n",
    "There are many ways to improve this model, such as experimenting to find better features or different model types. "
   ]
  },
  {
   "cell_type": "markdown",
   "id": "d649c639",
   "metadata": {
    "lang": "zh"
   },
   "source": [
    "# Wow！\n",
    "\n",
    "样本内数据的平均绝对误差约为 500 美元。样本外超过250,000美元。\n",
    "\n",
    "这是几乎完全正确的模型与无法用于大多数实际目的的模型之间的区别。作为参考，验证数据中的平均房屋价值为 110 万美元。因此，新数据的误差约为平均房屋价值的四分之一。\n",
    "\n",
    "有很多方法可以改进这个模型，比如尝试寻找更好的特征或不同的模型类型。"
   ]
  },
  {
   "cell_type": "markdown",
   "id": "4cb02fef",
   "metadata": {
    "lang": "en",
    "papermill": {
     "duration": 0.002977,
     "end_time": "2023-04-21T13:39:06.006221",
     "exception": false,
     "start_time": "2023-04-21T13:39:06.003244",
     "status": "completed"
    },
    "tags": []
   },
   "source": [
    "# Your Turn\n",
    "Before we look at improving this model, try **[Model Validation](https://www.kaggle.com/kernels/fork/1259097)** for yourself."
   ]
  },
  {
   "cell_type": "markdown",
   "id": "032393ea",
   "metadata": {
    "lang": "zh"
   },
   "source": [
    "# 到你了\n",
    "在我们着手改进此模型之前，请亲自尝试**[模型验证](https://www.kaggle.com/kernels/fork/1259097)**。"
   ]
  },
  {
   "cell_type": "markdown",
   "id": "7c936371",
   "metadata": {
    "papermill": {
     "duration": 0.002909,
     "end_time": "2023-04-21T13:39:06.012380",
     "exception": false,
     "start_time": "2023-04-21T13:39:06.009471",
     "status": "completed"
    },
    "tags": []
   },
   "source": [
    "---\n",
    "\n",
    "\n",
    "\n",
    "\n",
    "*Have questions or comments? Visit the [course discussion forum](https://www.kaggle.com/learn/intro-to-machine-learning/discussion) to chat with other learners.*"
   ]
  }
 ],
 "metadata": {
  "kernelspec": {
   "display_name": "Python 3 (ipykernel)",
   "language": "python",
   "name": "python3"
  },
  "language_info": {
   "codemirror_mode": {
    "name": "ipython",
    "version": 3
   },
   "file_extension": ".py",
   "mimetype": "text/x-python",
   "name": "python",
   "nbconvert_exporter": "python",
   "pygments_lexer": "ipython3",
   "version": "3.9.16"
  },
  "nbTranslate": {
   "displayLangs": [
    "zh",
    "en"
   ],
   "hotkey": "alt-t",
   "langInMainMenu": true,
   "sourceLang": "en",
   "targetLang": "zh",
   "useGoogleTranslate": true
  },
  "papermill": {
   "default_parameters": {},
   "duration": 12.724919,
   "end_time": "2023-04-21T13:39:06.838317",
   "environment_variables": {},
   "exception": null,
   "input_path": "__notebook__.ipynb",
   "output_path": "__notebook__.ipynb",
   "parameters": {},
   "start_time": "2023-04-21T13:38:54.113398",
   "version": "2.4.0"
  }
 },
 "nbformat": 4,
 "nbformat_minor": 5
}
