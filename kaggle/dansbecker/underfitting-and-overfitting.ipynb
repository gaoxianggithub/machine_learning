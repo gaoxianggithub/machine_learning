{
 "cells": [
  {
   "cell_type": "markdown",
   "id": "8bfc0a5c",
   "metadata": {
    "lang": "en",
    "papermill": {
     "duration": 0.003615,
     "end_time": "2023-04-21T13:39:13.195933",
     "exception": false,
     "start_time": "2023-04-21T13:39:13.192318",
     "status": "completed"
    },
    "tags": []
   },
   "source": [
    "At the end of this step, you will understand the concepts of underfitting and overfitting, and you will be able to apply these ideas to make your models more accurate.\n",
    "\n",
    "# Experimenting With Different Models\n",
    "\n",
    "Now that you have a reliable way to measure model accuracy, you can experiment with alternative models and see which gives the best predictions.  But what alternatives do you have for models?\n",
    "\n",
    "You can see in scikit-learn's [documentation](http://scikit-learn.org/stable/modules/generated/sklearn.tree.DecisionTreeRegressor.html) that the decision tree model has many options (more than you'll want or need for a long time). The most important options determine the tree's depth.  Recall from [the first lesson in this course](https://www.kaggle.com/dansbecker/how-models-work) that a tree's depth is a measure of how many splits it makes before coming to a prediction.  This is a relatively shallow tree\n",
    "\n",
    "![Depth 2 Tree](https://storage.googleapis.com/kaggle-media/learn/images/R3ywQsR.png)\n",
    "\n",
    "In practice, it's not uncommon for a tree to have 10 splits between the top level (all houses) and a leaf.  As the tree gets deeper, the dataset gets sliced up into leaves with fewer houses.  If a tree only had 1 split, it divides the data into 2 groups. If each group is split again, we would get 4 groups of houses.  Splitting each of those again would create 8 groups.  If we keep doubling the number of groups by adding more splits at each level, we'll have \\\\(2^{10}\\\\) groups of houses by the time we get to the 10th level. That's 1024 leaves.  \n",
    "\n",
    "When we divide the houses amongst many leaves, we also have fewer houses in each leaf.  Leaves with very few houses will make predictions that are quite close to those homes' actual values, but they may make very unreliable predictions for new data (because each prediction is based on only a few houses).\n",
    "\n",
    "This is a phenomenon called **overfitting**, where a model matches the training data almost perfectly, but does poorly in validation and other new data.  On the flip side, if we make our tree very shallow, it doesn't divide up the houses into very distinct groups.  \n",
    "\n",
    "At an extreme, if a tree divides houses into only 2 or 4, each group still has a wide variety of houses. Resulting predictions may be far off for most houses, even in the training data (and it will be bad in validation too for the same reason). When a model fails to capture important distinctions and patterns in the data, so it performs poorly even in training data, that is called **underfitting**.  \n",
    "\n",
    "Since we care about accuracy on new data, which we estimate from our validation data, we want to find the sweet spot between underfitting and overfitting.  Visually, we want the low point of the (red) validation curve in the figure below.\n",
    "\n",
    "![underfitting_overfitting](https://storage.googleapis.com/kaggle-media/learn/images/AXSEOfI.png)\n",
    "\n",
    "# Example\n",
    "There are a few alternatives for controlling the tree depth, and many allow for some routes through the tree to have greater depth than other routes.  But the *max_leaf_nodes* argument provides a very sensible way to control overfitting vs underfitting.  The more leaves we allow the model to make, the more we move from the underfitting area in the above graph to the overfitting area.\n",
    "\n",
    "We can use a utility function to help compare MAE scores from different values for *max_leaf_nodes*:\n"
   ]
  },
  {
   "cell_type": "markdown",
   "id": "cef14c09",
   "metadata": {
    "lang": "zh"
   },
   "source": [
    "在这一步结束时，您将理解欠拟合和过拟合的概念，并且您将能够应用这些想法来使您的模型更加准确。\n",
    "\n",
    "# 试验不同的模型\n",
    "\n",
    "现在您有了一种可靠的方法来衡量模型的准确性，您可以尝试替代模型并查看哪个模型的预测效果最好。但是对于模型你有什么选择呢？\n",
    "\n",
    "您可以在 scikit-learn 的 [文档](http://scikit-learn.org/stable/modules/generated/sklearn.tree.DecisionTreeRegressor.html) 中看到决策树模型有很多选项（比您想要的更多）或需要很长时间）。最重要的选项决定了树的深度。回想一下 [本课程的第一课](https://www.kaggle.com/dansbecker/how-models-work)，树的深度衡量的是它在进行预测之前进行了多少次拆分。这是一棵相对较浅的树\n",
    "\n",
    "![深度 2 树](https://storage.googleapis.com/kaggle-media/learn/images/R3ywQsR.png)\n",
    "\n",
    "实际上，一棵树在顶层（所有房屋）和一片叶子之间有 10 个分裂的情况并不少见。随着树越来越深，数据集被分割成具有更少房屋的叶子。如果一棵树只有 1 个分裂，它会将数据分成 2 组。如果每组再拆分，我们将得到 4 组房屋。再次拆分每个将创建 8 个组。如果我们通过在每个级别添加更多拆分来继续使组数加倍，那么到第 10 级时我们将拥有 \\\\(2^{10}\\\\) 组房屋。那是 1024 片叶子。\n",
    "\n",
    "当我们在许多叶子中划分房屋时，每片叶子中的房屋也更少。房屋很少的叶子会做出非常接近这些房屋实际价值的预测，但它们可能会对新数据做出非常不可靠的预测（因为每个预测仅基于少数房屋）。\n",
    "\n",
    "这是一种称为**过度拟合**的现象，其中模型几乎完美匹配训练数据，但在验证和其他新数据方面表现不佳。另一方面，如果我们把树做得很浅，它就不会把房子分成非常不同的组。\n",
    "\n",
    "在极端情况下，如果一棵树只把房子分成 2 或 4 组，每组仍然有各种各样的房子。对于大多数房屋，即使在训练数据中，结果预测也可能相去甚远（出于同样的原因，在验证中也会很糟糕）。当一个模型未能捕获数据中的重要区别和模式时，即使在训练数据中它也表现不佳，这称为 **欠拟合**。\n",
    "\n",
    "由于我们关心根据验证数据估计的新数据的准确性，因此我们希望找到欠拟合和过拟合之间的最佳平衡点。在视觉上，我们想要下图中（红色）验证曲线的低点。\n",
    "\n",
    "![欠拟合_过度拟合](https://storage.googleapis.com/kaggle-media/learn/images/AXSEOfI.png)\n",
    "\n",
    "＃ 例子\n",
    "有几种方法可以控制树的深度，其中许多方法允许通过树的某些路径比其他路径具有更大的深度。但是 *max_leaf_nodes* 参数提供了一种非常明智的方法来控制过度拟合与欠拟合。我们允许模型制作的叶子越多，我们从上图中的欠拟合区域移动到过拟合区域的次数就越多。\n",
    "\n",
    "我们可以使用效用函数来帮助比较 *max_leaf_nodes* 的不同值的 MAE 分数："
   ]
  },
  {
   "cell_type": "code",
   "execution_count": 1,
   "id": "d623abfe",
   "metadata": {
    "collapsed": true,
    "execution": {
     "iopub.execute_input": "2023-04-21T13:39:13.204256Z",
     "iopub.status.busy": "2023-04-21T13:39:13.203370Z",
     "iopub.status.idle": "2023-04-21T13:39:14.606284Z",
     "shell.execute_reply": "2023-04-21T13:39:14.604881Z"
    },
    "papermill": {
     "duration": 1.41049,
     "end_time": "2023-04-21T13:39:14.609334",
     "exception": false,
     "start_time": "2023-04-21T13:39:13.198844",
     "status": "completed"
    },
    "tags": []
   },
   "outputs": [],
   "source": [
    "from sklearn.metrics import mean_absolute_error\n",
    "from sklearn.tree import DecisionTreeRegressor\n",
    "\n",
    "def get_mae(max_leaf_nodes, train_X, val_X, train_y, val_y):\n",
    "    model = DecisionTreeRegressor(max_leaf_nodes=max_leaf_nodes, random_state=0)\n",
    "    model.fit(train_X, train_y)\n",
    "    preds_val = model.predict(val_X)\n",
    "    mae = mean_absolute_error(val_y, preds_val)\n",
    "    return(mae)"
   ]
  },
  {
   "cell_type": "markdown",
   "id": "15a4e36f",
   "metadata": {
    "papermill": {
     "duration": 0.002283,
     "end_time": "2023-04-21T13:39:14.614422",
     "exception": false,
     "start_time": "2023-04-21T13:39:14.612139",
     "status": "completed"
    },
    "tags": []
   },
   "source": [
    "The data is loaded into **train_X**, **val_X**, **train_y** and **val_y** using the code you've already seen (and which you've already written)."
   ]
  },
  {
   "cell_type": "code",
   "execution_count": 2,
   "id": "1c7e9118",
   "metadata": {
    "_kg_hide-input": true,
    "_kg_hide-output": true,
    "collapsed": true,
    "execution": {
     "iopub.execute_input": "2023-04-21T13:39:14.621596Z",
     "iopub.status.busy": "2023-04-21T13:39:14.621196Z",
     "iopub.status.idle": "2023-04-21T13:39:14.757622Z",
     "shell.execute_reply": "2023-04-21T13:39:14.756434Z"
    },
    "papermill": {
     "duration": 0.143603,
     "end_time": "2023-04-21T13:39:14.760597",
     "exception": false,
     "start_time": "2023-04-21T13:39:14.616994",
     "status": "completed"
    },
    "tags": []
   },
   "outputs": [],
   "source": [
    "import pandas as pd\n",
    "    \n",
    "# 加载数据\n",
    "melbourne_file_path = '../input/melbourne-housing-snapshot/melb_data.csv'\n",
    "melbourne_data = pd.read_csv(melbourne_file_path) \n",
    "# 筛选具有缺失值的行\n",
    "filtered_melbourne_data = melbourne_data.dropna(axis=0)\n",
    "# 选择目标和特征值\n",
    "y = filtered_melbourne_data.Price\n",
    "melbourne_features = ['Rooms', 'Bathroom', 'Landsize', 'BuildingArea', \n",
    "                        'YearBuilt', 'Lattitude', 'Longtitude']\n",
    "X = filtered_melbourne_data[melbourne_features]\n",
    "\n",
    "from sklearn.model_selection import train_test_split\n",
    "\n",
    "# split data into training and validation data, for both features and target\n",
    "train_X, val_X, train_y, val_y = train_test_split(X, y,random_state = 0)"
   ]
  },
  {
   "cell_type": "markdown",
   "id": "43eb9643",
   "metadata": {
    "papermill": {
     "duration": 0.002466,
     "end_time": "2023-04-21T13:39:14.765840",
     "exception": false,
     "start_time": "2023-04-21T13:39:14.763374",
     "status": "completed"
    },
    "tags": []
   },
   "source": [
    "We can use a for-loop to compare the accuracy of models built with different values for *max_leaf_nodes.*"
   ]
  },
  {
   "cell_type": "code",
   "execution_count": 3,
   "id": "7a75b55d",
   "metadata": {
    "collapsed": true,
    "execution": {
     "iopub.execute_input": "2023-04-21T13:39:14.773179Z",
     "iopub.status.busy": "2023-04-21T13:39:14.772697Z",
     "iopub.status.idle": "2023-04-21T13:39:14.870009Z",
     "shell.execute_reply": "2023-04-21T13:39:14.868719Z"
    },
    "papermill": {
     "duration": 0.104742,
     "end_time": "2023-04-21T13:39:14.873136",
     "exception": false,
     "start_time": "2023-04-21T13:39:14.768394",
     "status": "completed"
    },
    "tags": []
   },
   "outputs": [
    {
     "name": "stdout",
     "output_type": "stream",
     "text": [
      "Max leaf nodes: 5  \t\t Mean Absolute Error:  347380\n",
      "Max leaf nodes: 50  \t\t Mean Absolute Error:  258171\n",
      "Max leaf nodes: 500  \t\t Mean Absolute Error:  243495\n",
      "Max leaf nodes: 5000  \t\t Mean Absolute Error:  254983\n"
     ]
    }
   ],
   "source": [
    "# compare MAE with differing values of max_leaf_nodes\n",
    "for max_leaf_nodes in [5, 50, 500, 5000]:\n",
    "    my_mae = get_mae(max_leaf_nodes, train_X, val_X, train_y, val_y)\n",
    "    print(\"Max leaf nodes: %d  \\t\\t Mean Absolute Error:  %d\" %(max_leaf_nodes, my_mae))"
   ]
  },
  {
   "cell_type": "markdown",
   "id": "0b89b025",
   "metadata": {
    "lang": "en",
    "papermill": {
     "duration": 0.002437,
     "end_time": "2023-04-21T13:39:14.878456",
     "exception": false,
     "start_time": "2023-04-21T13:39:14.876019",
     "status": "completed"
    },
    "tags": []
   },
   "source": [
    "\n",
    "Of the options listed, 500 is the optimal number of leaves.\n",
    "\n",
    "---\n",
    "\n",
    "# Conclusion\n",
    "\n",
    "Here's the takeaway: Models can suffer from either:\n",
    "- **Overfitting:** capturing spurious patterns that won't recur in the future, leading to less accurate predictions, or \n",
    "- **Underfitting:** failing to capture relevant patterns, again leading to less accurate predictions. \n",
    "\n",
    "We use **validation** data, which isn't used in model training, to measure a candidate model's accuracy. This lets us try many candidate models and keep the best one. \n",
    "\n",
    "\n",
    "\n",
    "# Your Turn\n",
    "\n",
    "Try **[optimizing the model you've previously built](https://www.kaggle.com/kernels/fork/1259126)**."
   ]
  },
  {
   "cell_type": "markdown",
   "id": "a64f5d71",
   "metadata": {
    "lang": "zh"
   },
   "source": [
    "在列出的选项中，500 是最佳叶数。\n",
    "\n",
    "---\n",
    "\n",
    "# 结论\n",
    "\n",
    "这是要点：模型可能会受到以下任一问题的影响：\n",
    "- **过度拟合：** 捕获未来不会重现的虚假模式，导致预测不准确，或者\n",
    "- **欠拟合：** 未能捕获相关模式，再次导致预测不准确。\n",
    "\n",
    "我们使用未在模型训练中使用的**验证**数据来衡量候选模型的准确性。这让我们可以尝试许多候选模型并保留最好的模型。\n",
    "\n",
    "\n",
    "\n",
    "# 到你了\n",
    "\n",
    "尝试**[优化您之前构建的模型](https://www.kaggle.com/kernels/fork/1259126)**。"
   ]
  },
  {
   "cell_type": "markdown",
   "id": "a932c085",
   "metadata": {
    "papermill": {
     "duration": 0.002339,
     "end_time": "2023-04-21T13:39:14.883427",
     "exception": false,
     "start_time": "2023-04-21T13:39:14.881088",
     "status": "completed"
    },
    "tags": []
   },
   "source": [
    "---\n",
    "\n",
    "\n",
    "\n",
    "\n",
    "*Have questions or comments? Visit the [course discussion forum](https://www.kaggle.com/learn/intro-to-machine-learning/discussion) to chat with other learners.*"
   ]
  }
 ],
 "metadata": {
  "kernelspec": {
   "display_name": "Python 3 (ipykernel)",
   "language": "python",
   "name": "python3"
  },
  "language_info": {
   "codemirror_mode": {
    "name": "ipython",
    "version": 3
   },
   "file_extension": ".py",
   "mimetype": "text/x-python",
   "name": "python",
   "nbconvert_exporter": "python",
   "pygments_lexer": "ipython3",
   "version": "3.9.16"
  },
  "nbTranslate": {
   "displayLangs": [
    "zh",
    "en"
   ],
   "hotkey": "alt-t",
   "langInMainMenu": true,
   "sourceLang": "en",
   "targetLang": "zh",
   "useGoogleTranslate": true
  },
  "papermill": {
   "default_parameters": {},
   "duration": 15.724019,
   "end_time": "2023-04-21T13:39:18.418124",
   "environment_variables": {},
   "exception": null,
   "input_path": "__notebook__.ipynb",
   "output_path": "__notebook__.ipynb",
   "parameters": {},
   "start_time": "2023-04-21T13:39:02.694105",
   "version": "2.4.0"
  }
 },
 "nbformat": 4,
 "nbformat_minor": 5
}
