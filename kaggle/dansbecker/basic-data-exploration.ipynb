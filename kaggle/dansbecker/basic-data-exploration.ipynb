{
 "cells": [
  {
   "cell_type": "markdown",
   "id": "c5bbb0d1",
   "metadata": {
    "lang": "en",
    "papermill": {
     "duration": 0.00388,
     "end_time": "2023-04-21T13:39:09.515172",
     "exception": false,
     "start_time": "2023-04-21T13:39:09.511292",
     "status": "completed"
    },
    "tags": []
   },
   "source": [
    "# Using Pandas to Get Familiar With Your Data\n",
    "\n",
    "The first step in any machine learning project is familiarize yourself with the data.  You'll use the Pandas library for this.  Pandas is the primary tool data scientists use for exploring and manipulating data.  Most people abbreviate pandas in their code as `pd`.  We do this with the command"
   ]
  },
  {
   "cell_type": "markdown",
   "id": "1873b38a",
   "metadata": {
    "lang": "zh"
   },
   "source": [
    "# 使用 Pandas 熟悉您的数据\n",
    "\n",
    "任何机器学习项目的第一步都是熟悉数据。为此，您将使用 Pandas 库。 Pandas 是数据科学家用来探索和处理数据的主要工具。大多数人在他们的代码中将 pandas 缩写为 `pd`。我们用命令来做到这一点"
   ]
  },
  {
   "cell_type": "code",
   "execution_count": 1,
   "id": "e828801b",
   "metadata": {
    "execution": {
     "iopub.execute_input": "2023-04-21T13:39:09.523483Z",
     "iopub.status.busy": "2023-04-21T13:39:09.522758Z",
     "iopub.status.idle": "2023-04-21T13:39:09.536621Z",
     "shell.execute_reply": "2023-04-21T13:39:09.535396Z"
    },
    "papermill": {
     "duration": 0.021416,
     "end_time": "2023-04-21T13:39:09.539542",
     "exception": false,
     "start_time": "2023-04-21T13:39:09.518126",
     "status": "completed"
    },
    "tags": []
   },
   "outputs": [],
   "source": [
    "import pandas as pd"
   ]
  },
  {
   "cell_type": "markdown",
   "id": "608f1ae0",
   "metadata": {
    "lang": "en",
    "papermill": {
     "duration": 0.001914,
     "end_time": "2023-04-21T13:39:09.543818",
     "exception": false,
     "start_time": "2023-04-21T13:39:09.541904",
     "status": "completed"
    },
    "tags": []
   },
   "source": [
    "The most important part of the Pandas library is the DataFrame.  A DataFrame holds the type of data you might think of as a table. This is similar to a sheet in Excel, or a table in a SQL database. \n",
    "\n",
    "Pandas has powerful methods for most things you'll want to do with this type of data.  \n",
    "\n",
    "As an example, we'll look at [data about home prices](https://www.kaggle.com/dansbecker/melbourne-housing-snapshot) in Melbourne, Australia. In the hands-on exercises, you will apply the same processes to a new dataset, which has home prices in Iowa.\n",
    "\n",
    "The example (Melbourne) data is at the file path **`../input/melbourne-housing-snapshot/melb_data.csv`**.\n",
    "\n",
    "We load and explore the data with the following commands:"
   ]
  },
  {
   "cell_type": "markdown",
   "id": "212dcad5",
   "metadata": {
    "lang": "zh"
   },
   "source": [
    "Pandas 库中最重要的部分是 DataFrame。 DataFrame 包含您可能认为是表格的数据类型。这类似于 Excel 中的工作表或 SQL 数据库中的表格。\n",
    "\n",
    "Pandas 具有强大的方法，可以处理您希望对此类数据执行的大多数操作。\n",
    "\n",
    "例如，我们将查看澳大利亚墨尔本的[房价数据](https://www.kaggle.com/dansbecker/melbourne-housing-snapshot)。在动手练习中，您将对包含爱荷华州房价的新数据集应用相同的过程。\n",
    "\n",
    "示例（墨尔本）数据位于文件路径 **`../input/melbourne-housing-snapshot/melb_data.csv`**。\n",
    "\n",
    "我们使用以下命令加载和探索数据："
   ]
  },
  {
   "cell_type": "code",
   "execution_count": 5,
   "id": "edf2ef6c",
   "metadata": {
    "execution": {
     "iopub.execute_input": "2023-04-21T13:39:09.549930Z",
     "iopub.status.busy": "2023-04-21T13:39:09.549266Z",
     "iopub.status.idle": "2023-04-21T13:39:09.710728Z",
     "shell.execute_reply": "2023-04-21T13:39:09.709302Z"
    },
    "lang": "en",
    "papermill": {
     "duration": 0.16778,
     "end_time": "2023-04-21T13:39:09.713619",
     "exception": false,
     "start_time": "2023-04-21T13:39:09.545839",
     "status": "completed"
    },
    "tags": []
   },
   "outputs": [
    {
     "data": {
      "text/html": [
       "<div>\n",
       "<style scoped>\n",
       "    .dataframe tbody tr th:only-of-type {\n",
       "        vertical-align: middle;\n",
       "    }\n",
       "\n",
       "    .dataframe tbody tr th {\n",
       "        vertical-align: top;\n",
       "    }\n",
       "\n",
       "    .dataframe thead th {\n",
       "        text-align: right;\n",
       "    }\n",
       "</style>\n",
       "<table border=\"1\" class=\"dataframe\">\n",
       "  <thead>\n",
       "    <tr style=\"text-align: right;\">\n",
       "      <th></th>\n",
       "      <th>Rooms</th>\n",
       "      <th>Price</th>\n",
       "      <th>Distance</th>\n",
       "      <th>Postcode</th>\n",
       "      <th>Bedroom2</th>\n",
       "      <th>Bathroom</th>\n",
       "      <th>Car</th>\n",
       "      <th>Landsize</th>\n",
       "      <th>BuildingArea</th>\n",
       "      <th>YearBuilt</th>\n",
       "      <th>Lattitude</th>\n",
       "      <th>Longtitude</th>\n",
       "      <th>Propertycount</th>\n",
       "    </tr>\n",
       "  </thead>\n",
       "  <tbody>\n",
       "    <tr>\n",
       "      <th>count</th>\n",
       "      <td>13580.000000</td>\n",
       "      <td>1.358000e+04</td>\n",
       "      <td>13580.000000</td>\n",
       "      <td>13580.000000</td>\n",
       "      <td>13580.000000</td>\n",
       "      <td>13580.000000</td>\n",
       "      <td>13518.000000</td>\n",
       "      <td>13580.000000</td>\n",
       "      <td>7130.000000</td>\n",
       "      <td>8205.000000</td>\n",
       "      <td>13580.000000</td>\n",
       "      <td>13580.000000</td>\n",
       "      <td>13580.000000</td>\n",
       "    </tr>\n",
       "    <tr>\n",
       "      <th>mean</th>\n",
       "      <td>2.937997</td>\n",
       "      <td>1.075684e+06</td>\n",
       "      <td>10.137776</td>\n",
       "      <td>3105.301915</td>\n",
       "      <td>2.914728</td>\n",
       "      <td>1.534242</td>\n",
       "      <td>1.610075</td>\n",
       "      <td>558.416127</td>\n",
       "      <td>151.967650</td>\n",
       "      <td>1964.684217</td>\n",
       "      <td>-37.809203</td>\n",
       "      <td>144.995216</td>\n",
       "      <td>7454.417378</td>\n",
       "    </tr>\n",
       "    <tr>\n",
       "      <th>std</th>\n",
       "      <td>0.955748</td>\n",
       "      <td>6.393107e+05</td>\n",
       "      <td>5.868725</td>\n",
       "      <td>90.676964</td>\n",
       "      <td>0.965921</td>\n",
       "      <td>0.691712</td>\n",
       "      <td>0.962634</td>\n",
       "      <td>3990.669241</td>\n",
       "      <td>541.014538</td>\n",
       "      <td>37.273762</td>\n",
       "      <td>0.079260</td>\n",
       "      <td>0.103916</td>\n",
       "      <td>4378.581772</td>\n",
       "    </tr>\n",
       "    <tr>\n",
       "      <th>min</th>\n",
       "      <td>1.000000</td>\n",
       "      <td>8.500000e+04</td>\n",
       "      <td>0.000000</td>\n",
       "      <td>3000.000000</td>\n",
       "      <td>0.000000</td>\n",
       "      <td>0.000000</td>\n",
       "      <td>0.000000</td>\n",
       "      <td>0.000000</td>\n",
       "      <td>0.000000</td>\n",
       "      <td>1196.000000</td>\n",
       "      <td>-38.182550</td>\n",
       "      <td>144.431810</td>\n",
       "      <td>249.000000</td>\n",
       "    </tr>\n",
       "    <tr>\n",
       "      <th>25%</th>\n",
       "      <td>2.000000</td>\n",
       "      <td>6.500000e+05</td>\n",
       "      <td>6.100000</td>\n",
       "      <td>3044.000000</td>\n",
       "      <td>2.000000</td>\n",
       "      <td>1.000000</td>\n",
       "      <td>1.000000</td>\n",
       "      <td>177.000000</td>\n",
       "      <td>93.000000</td>\n",
       "      <td>1940.000000</td>\n",
       "      <td>-37.856822</td>\n",
       "      <td>144.929600</td>\n",
       "      <td>4380.000000</td>\n",
       "    </tr>\n",
       "    <tr>\n",
       "      <th>50%</th>\n",
       "      <td>3.000000</td>\n",
       "      <td>9.030000e+05</td>\n",
       "      <td>9.200000</td>\n",
       "      <td>3084.000000</td>\n",
       "      <td>3.000000</td>\n",
       "      <td>1.000000</td>\n",
       "      <td>2.000000</td>\n",
       "      <td>440.000000</td>\n",
       "      <td>126.000000</td>\n",
       "      <td>1970.000000</td>\n",
       "      <td>-37.802355</td>\n",
       "      <td>145.000100</td>\n",
       "      <td>6555.000000</td>\n",
       "    </tr>\n",
       "    <tr>\n",
       "      <th>75%</th>\n",
       "      <td>3.000000</td>\n",
       "      <td>1.330000e+06</td>\n",
       "      <td>13.000000</td>\n",
       "      <td>3148.000000</td>\n",
       "      <td>3.000000</td>\n",
       "      <td>2.000000</td>\n",
       "      <td>2.000000</td>\n",
       "      <td>651.000000</td>\n",
       "      <td>174.000000</td>\n",
       "      <td>1999.000000</td>\n",
       "      <td>-37.756400</td>\n",
       "      <td>145.058305</td>\n",
       "      <td>10331.000000</td>\n",
       "    </tr>\n",
       "    <tr>\n",
       "      <th>max</th>\n",
       "      <td>10.000000</td>\n",
       "      <td>9.000000e+06</td>\n",
       "      <td>48.100000</td>\n",
       "      <td>3977.000000</td>\n",
       "      <td>20.000000</td>\n",
       "      <td>8.000000</td>\n",
       "      <td>10.000000</td>\n",
       "      <td>433014.000000</td>\n",
       "      <td>44515.000000</td>\n",
       "      <td>2018.000000</td>\n",
       "      <td>-37.408530</td>\n",
       "      <td>145.526350</td>\n",
       "      <td>21650.000000</td>\n",
       "    </tr>\n",
       "  </tbody>\n",
       "</table>\n",
       "</div>"
      ],
      "text/plain": [
       "              Rooms         Price      Distance      Postcode      Bedroom2  \\\n",
       "count  13580.000000  1.358000e+04  13580.000000  13580.000000  13580.000000   \n",
       "mean       2.937997  1.075684e+06     10.137776   3105.301915      2.914728   \n",
       "std        0.955748  6.393107e+05      5.868725     90.676964      0.965921   \n",
       "min        1.000000  8.500000e+04      0.000000   3000.000000      0.000000   \n",
       "25%        2.000000  6.500000e+05      6.100000   3044.000000      2.000000   \n",
       "50%        3.000000  9.030000e+05      9.200000   3084.000000      3.000000   \n",
       "75%        3.000000  1.330000e+06     13.000000   3148.000000      3.000000   \n",
       "max       10.000000  9.000000e+06     48.100000   3977.000000     20.000000   \n",
       "\n",
       "           Bathroom           Car       Landsize  BuildingArea    YearBuilt  \\\n",
       "count  13580.000000  13518.000000   13580.000000   7130.000000  8205.000000   \n",
       "mean       1.534242      1.610075     558.416127    151.967650  1964.684217   \n",
       "std        0.691712      0.962634    3990.669241    541.014538    37.273762   \n",
       "min        0.000000      0.000000       0.000000      0.000000  1196.000000   \n",
       "25%        1.000000      1.000000     177.000000     93.000000  1940.000000   \n",
       "50%        1.000000      2.000000     440.000000    126.000000  1970.000000   \n",
       "75%        2.000000      2.000000     651.000000    174.000000  1999.000000   \n",
       "max        8.000000     10.000000  433014.000000  44515.000000  2018.000000   \n",
       "\n",
       "          Lattitude    Longtitude  Propertycount  \n",
       "count  13580.000000  13580.000000   13580.000000  \n",
       "mean     -37.809203    144.995216    7454.417378  \n",
       "std        0.079260      0.103916    4378.581772  \n",
       "min      -38.182550    144.431810     249.000000  \n",
       "25%      -37.856822    144.929600    4380.000000  \n",
       "50%      -37.802355    145.000100    6555.000000  \n",
       "75%      -37.756400    145.058305   10331.000000  \n",
       "max      -37.408530    145.526350   21650.000000  "
      ]
     },
     "execution_count": 5,
     "metadata": {},
     "output_type": "execute_result"
    }
   ],
   "source": [
    "# save filepath to variable for easier access\n",
    "melbourne_file_path = 'data/melb_data.csv'\n",
    "# read the data and store data in DataFrame titled melbourne_data\n",
    "melbourne_data = pd.read_csv(melbourne_file_path) \n",
    "# print a summary of the data in Melbourne data\n",
    "melbourne_data.describe()"
   ]
  },
  {
   "cell_type": "markdown",
   "id": "03ddc783",
   "metadata": {
    "lang": "en",
    "papermill": {
     "duration": 0.002419,
     "end_time": "2023-04-21T13:39:09.718853",
     "exception": false,
     "start_time": "2023-04-21T13:39:09.716434",
     "status": "completed"
    },
    "tags": []
   },
   "source": [
    "# Interpreting Data Description\n",
    "The results show 8 numbers for each column in your original dataset. The first number, the **count**,  shows how many rows have non-missing values.  \n",
    "\n",
    "Missing values arise for many reasons. For example, the size of the 2nd bedroom wouldn't be collected when surveying a 1 bedroom house. We'll come back to the topic of missing data.\n",
    "\n",
    "The second value is the **mean**, which is the average.  Under that, **std** is the standard deviation, which measures how numerically spread out the values are.\n",
    "\n",
    "To interpret the **min**, **25%**, **50%**, **75%** and **max** values, imagine sorting each column from lowest to highest value.  The first (smallest) value is the min.  If you go a quarter way through the list, you'll find a number that is bigger than 25% of the values and smaller than 75% of the values.  That is the **25%** value (pronounced \"25th percentile\").  The 50th and 75th percentiles are defined analogously, and the **max** is the largest number.\n",
    "\n",
    "\n",
    "# Your Turn\n",
    "Get started with your **[first coding exercise](https://www.kaggle.com/kernels/fork/1258954)**"
   ]
  },
  {
   "cell_type": "markdown",
   "id": "d1cff02b",
   "metadata": {
    "lang": "zh-cn"
   },
   "source": [
    "# 解释数据说明\n",
    "结果显示原始数据集中每列有 8 个数字。第一个数字 **count** 显示有多少行具有非缺失值。\n",
    "\n",
    "缺失值的产生有多种原因。例如，在测量一间卧室的房子时，不会收集第二间卧室的大小。我们将回到缺失数据的主题。\n",
    "\n",
    "第二个值是 **mean**，即平均值。在此之下，**std** 是标准偏差，它衡量数值在数值上的分布情况。\n",
    "\n",
    "解释 **min**、**25%**、**50%**、**75%** 和 **max** 值，想象一下从最低值到最高值对每一列进行排序。第一个（最小）值是最小值。如果您浏览列表的四分之一，您会发现一个数字大于值的 25% 且小于值的 75%。那就是 **25%** 值（发音为“第 25 个百分位数”）。第 50 个和第 75 个百分位数的定义类似，**max** 是最大的数字。\n",
    "\n",
    "\n",
    "# 到你了\n",
    "开始您的**[第一次编码练习](https://www.kaggle.com/kernels/fork/1258954)**"
   ]
  },
  {
   "cell_type": "markdown",
   "id": "62d5ffc1",
   "metadata": {
    "papermill": {
     "duration": 0.002203,
     "end_time": "2023-04-21T13:39:09.723579",
     "exception": false,
     "start_time": "2023-04-21T13:39:09.721376",
     "status": "completed"
    },
    "tags": []
   },
   "source": [
    "---\n",
    "\n",
    "\n",
    "\n",
    "\n",
    "*Have questions or comments? Visit the [course discussion forum](https://www.kaggle.com/learn/intro-to-machine-learning/discussion) to chat with other learners.*"
   ]
  }
 ],
 "metadata": {
  "kernelspec": {
   "display_name": "Python 3 (ipykernel)",
   "language": "python",
   "name": "python3"
  },
  "language_info": {
   "codemirror_mode": {
    "name": "ipython",
    "version": 3
   },
   "file_extension": ".py",
   "mimetype": "text/x-python",
   "name": "python",
   "nbconvert_exporter": "python",
   "pygments_lexer": "ipython3",
   "version": "3.9.16"
  },
  "nbTranslate": {
   "displayLangs": [
    "en",
    "zh",
    "zh-cn"
   ],
   "hotkey": "alt-t",
   "langInMainMenu": true,
   "sourceLang": "en",
   "targetLang": "zh-cn",
   "useGoogleTranslate": true
  },
  "papermill": {
   "default_parameters": {},
   "duration": 10.937777,
   "end_time": "2023-04-21T13:39:10.348672",
   "environment_variables": {},
   "exception": null,
   "input_path": "__notebook__.ipynb",
   "output_path": "__notebook__.ipynb",
   "parameters": {},
   "start_time": "2023-04-21T13:38:59.410895",
   "version": "2.4.0"
  }
 },
 "nbformat": 4,
 "nbformat_minor": 5
}
